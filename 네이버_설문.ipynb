{
  "nbformat": 4,
  "nbformat_minor": 0,
  "metadata": {
    "colab": {
      "name": "네이버 설문.ipynb",
      "provenance": [],
      "collapsed_sections": [],
      "authorship_tag": "ABX9TyPwFWEwqu+4lzmKzag4Lyfi",
      "include_colab_link": true
    },
    "kernelspec": {
      "name": "python3",
      "display_name": "Python 3"
    },
    "language_info": {
      "name": "python"
    }
  },
  "cells": [
    {
      "cell_type": "markdown",
      "metadata": {
        "id": "view-in-github",
        "colab_type": "text"
      },
      "source": [
        "<a href=\"https://colab.research.google.com/github/leetaehan/leetaehan/blob/main/%EB%84%A4%EC%9D%B4%EB%B2%84_%EC%84%A4%EB%AC%B8.ipynb\" target=\"_parent\"><img src=\"https://colab.research.google.com/assets/colab-badge.svg\" alt=\"Open In Colab\"/></a>"
      ]
    },
    {
      "cell_type": "code",
      "metadata": {
        "id": "Wk-6IXhGLpwU"
      },
      "source": [
        "%matplotlib inline"
      ],
      "execution_count": null,
      "outputs": []
    },
    {
      "cell_type": "code",
      "metadata": {
        "id": "JZk7YyDtL_VA"
      },
      "source": [
        "import pandas as pd\n",
        "import numpy as np\n",
        "from scipy import stats\n",
        "import matplotlib.pyplot as plt\n",
        "import seaborn as sns"
      ],
      "execution_count": null,
      "outputs": []
    },
    {
      "cell_type": "code",
      "metadata": {
        "id": "keeXd0UQMLZf"
      },
      "source": [
        "import warnings\n",
        "warnings.filterwarnings('ignore')"
      ],
      "execution_count": null,
      "outputs": []
    },
    {
      "cell_type": "code",
      "metadata": {
        "colab": {
          "base_uri": "https://localhost:8080/"
        },
        "id": "Z4okiyboMRsa",
        "outputId": "9d74b8d2-6b0b-46d8-8af8-2f2d00871c1f"
      },
      "source": [
        "from google.colab import drive\n",
        "drive.mount('/content/drive')"
      ],
      "execution_count": null,
      "outputs": [
        {
          "output_type": "stream",
          "name": "stdout",
          "text": [
            "Mounted at /content/drive\n"
          ]
        }
      ]
    },
    {
      "cell_type": "code",
      "metadata": {
        "colab": {
          "base_uri": "https://localhost:8080/"
        },
        "id": "GVXb13NiMbKA",
        "outputId": "e89ba422-0709-4795-9c68-ffa608464917"
      },
      "source": [
        "question = pd.read_csv('/content/drive/My Drive/Colab Notebooks/data/schema.csv')\n",
        "question.shape"
      ],
      "execution_count": null,
      "outputs": [
        {
          "output_type": "execute_result",
          "data": {
            "text/plain": [
              "(290, 3)"
            ]
          },
          "metadata": {},
          "execution_count": 11
        }
      ]
    },
    {
      "cell_type": "code",
      "metadata": {
        "colab": {
          "base_uri": "https://localhost:8080/",
          "height": 203
        },
        "id": "_g00yB7wM06m",
        "outputId": "0c462a34-7091-4db4-fcc2-a4ef0bfac649"
      },
      "source": [
        "question.head()"
      ],
      "execution_count": null,
      "outputs": [
        {
          "output_type": "execute_result",
          "data": {
            "text/html": [
              "<div>\n",
              "<style scoped>\n",
              "    .dataframe tbody tr th:only-of-type {\n",
              "        vertical-align: middle;\n",
              "    }\n",
              "\n",
              "    .dataframe tbody tr th {\n",
              "        vertical-align: top;\n",
              "    }\n",
              "\n",
              "    .dataframe thead th {\n",
              "        text-align: right;\n",
              "    }\n",
              "</style>\n",
              "<table border=\"1\" class=\"dataframe\">\n",
              "  <thead>\n",
              "    <tr style=\"text-align: right;\">\n",
              "      <th></th>\n",
              "      <th>Column</th>\n",
              "      <th>Question</th>\n",
              "      <th>Asked</th>\n",
              "    </tr>\n",
              "  </thead>\n",
              "  <tbody>\n",
              "    <tr>\n",
              "      <th>0</th>\n",
              "      <td>GenderSelect</td>\n",
              "      <td>Select your gender identity. - Selected Choice</td>\n",
              "      <td>All</td>\n",
              "    </tr>\n",
              "    <tr>\n",
              "      <th>1</th>\n",
              "      <td>GenderFreeForm</td>\n",
              "      <td>Select your gender identity. - A different ide...</td>\n",
              "      <td>All</td>\n",
              "    </tr>\n",
              "    <tr>\n",
              "      <th>2</th>\n",
              "      <td>Country</td>\n",
              "      <td>Select the country you currently live in.</td>\n",
              "      <td>All</td>\n",
              "    </tr>\n",
              "    <tr>\n",
              "      <th>3</th>\n",
              "      <td>Age</td>\n",
              "      <td>What's your age?</td>\n",
              "      <td>All</td>\n",
              "    </tr>\n",
              "    <tr>\n",
              "      <th>4</th>\n",
              "      <td>EmploymentStatus</td>\n",
              "      <td>What's your current employment status?</td>\n",
              "      <td>All</td>\n",
              "    </tr>\n",
              "  </tbody>\n",
              "</table>\n",
              "</div>"
            ],
            "text/plain": [
              "             Column                                           Question Asked\n",
              "0      GenderSelect     Select your gender identity. - Selected Choice   All\n",
              "1    GenderFreeForm  Select your gender identity. - A different ide...   All\n",
              "2           Country          Select the country you currently live in.   All\n",
              "3               Age                                   What's your age?   All\n",
              "4  EmploymentStatus             What's your current employment status?   All"
            ]
          },
          "metadata": {},
          "execution_count": 12
        }
      ]
    },
    {
      "cell_type": "code",
      "metadata": {
        "colab": {
          "base_uri": "https://localhost:8080/",
          "height": 203
        },
        "id": "XL_YeVEmOul6",
        "outputId": "fab2dda5-4549-4b42-ccee-d793c1a4b756"
      },
      "source": [
        "question.tail()"
      ],
      "execution_count": null,
      "outputs": [
        {
          "output_type": "execute_result",
          "data": {
            "text/html": [
              "<div>\n",
              "<style scoped>\n",
              "    .dataframe tbody tr th:only-of-type {\n",
              "        vertical-align: middle;\n",
              "    }\n",
              "\n",
              "    .dataframe tbody tr th {\n",
              "        vertical-align: top;\n",
              "    }\n",
              "\n",
              "    .dataframe thead th {\n",
              "        text-align: right;\n",
              "    }\n",
              "</style>\n",
              "<table border=\"1\" class=\"dataframe\">\n",
              "  <thead>\n",
              "    <tr style=\"text-align: right;\">\n",
              "      <th></th>\n",
              "      <th>Column</th>\n",
              "      <th>Question</th>\n",
              "      <th>Asked</th>\n",
              "    </tr>\n",
              "  </thead>\n",
              "  <tbody>\n",
              "    <tr>\n",
              "      <th>285</th>\n",
              "      <td>JobFactorRemote</td>\n",
              "      <td>How are you assessing potential job opportunit...</td>\n",
              "      <td>Learners</td>\n",
              "    </tr>\n",
              "    <tr>\n",
              "      <th>286</th>\n",
              "      <td>JobFactorIndustry</td>\n",
              "      <td>How are you assessing potential job opportunit...</td>\n",
              "      <td>Learners</td>\n",
              "    </tr>\n",
              "    <tr>\n",
              "      <th>287</th>\n",
              "      <td>JobFactorLeaderReputation</td>\n",
              "      <td>How are you assessing potential job opportunit...</td>\n",
              "      <td>Learners</td>\n",
              "    </tr>\n",
              "    <tr>\n",
              "      <th>288</th>\n",
              "      <td>JobFactorDiversity</td>\n",
              "      <td>How are you assessing potential job opportunit...</td>\n",
              "      <td>Learners</td>\n",
              "    </tr>\n",
              "    <tr>\n",
              "      <th>289</th>\n",
              "      <td>JobFactorPublishingOpportunity</td>\n",
              "      <td>How are you assessing potential job opportunit...</td>\n",
              "      <td>Learners</td>\n",
              "    </tr>\n",
              "  </tbody>\n",
              "</table>\n",
              "</div>"
            ],
            "text/plain": [
              "                             Column  ...     Asked\n",
              "285                 JobFactorRemote  ...  Learners\n",
              "286               JobFactorIndustry  ...  Learners\n",
              "287       JobFactorLeaderReputation  ...  Learners\n",
              "288              JobFactorDiversity  ...  Learners\n",
              "289  JobFactorPublishingOpportunity  ...  Learners\n",
              "\n",
              "[5 rows x 3 columns]"
            ]
          },
          "metadata": {},
          "execution_count": 13
        }
      ]
    },
    {
      "cell_type": "code",
      "metadata": {
        "id": "NWe3K-jgOwR9"
      },
      "source": [
        "mcq = pd.read_csv('/content/drive/My Drive/Colab Notebooks/data/multipleChoiceResponses.csv', encoding=\"ISO-8859-1\")"
      ],
      "execution_count": null,
      "outputs": []
    },
    {
      "cell_type": "code",
      "metadata": {
        "colab": {
          "base_uri": "https://localhost:8080/"
        },
        "id": "6mRHe0ivO5zm",
        "outputId": "4ed464ed-5b14-4bc1-c65a-11637486b057"
      },
      "source": [
        "mcq.shape"
      ],
      "execution_count": null,
      "outputs": [
        {
          "output_type": "execute_result",
          "data": {
            "text/plain": [
              "(16716, 228)"
            ]
          },
          "metadata": {},
          "execution_count": 15
        }
      ]
    },
    {
      "cell_type": "code",
      "metadata": {
        "colab": {
          "base_uri": "https://localhost:8080/"
        },
        "id": "TXLQ-pBVO9Nw",
        "outputId": "c5310380-70a9-4072-abac-76d1a1da2b7e"
      },
      "source": [
        "mcq.columns"
      ],
      "execution_count": null,
      "outputs": [
        {
          "output_type": "execute_result",
          "data": {
            "text/plain": [
              "Index(['GenderSelect', 'Country', 'Age', 'EmploymentStatus', 'StudentStatus',\n",
              "       'LearningDataScience', 'CodeWriter', 'CareerSwitcher',\n",
              "       'CurrentJobTitleSelect', 'TitleFit',\n",
              "       ...\n",
              "       'JobFactorExperienceLevel', 'JobFactorDepartment', 'JobFactorTitle',\n",
              "       'JobFactorCompanyFunding', 'JobFactorImpact', 'JobFactorRemote',\n",
              "       'JobFactorIndustry', 'JobFactorLeaderReputation', 'JobFactorDiversity',\n",
              "       'JobFactorPublishingOpportunity'],\n",
              "      dtype='object', length=228)"
            ]
          },
          "metadata": {},
          "execution_count": 16
        }
      ]
    },
    {
      "cell_type": "code",
      "metadata": {
        "colab": {
          "base_uri": "https://localhost:8080/",
          "height": 487
        },
        "id": "iZ9ugnv1PASQ",
        "outputId": "5397def5-fd8c-4ce5-bc61-16e63b643ab8"
      },
      "source": [
        "mcq.head()"
      ],
      "execution_count": null,
      "outputs": [
        {
          "output_type": "execute_result",
          "data": {
            "text/html": [
              "<div>\n",
              "<style scoped>\n",
              "    .dataframe tbody tr th:only-of-type {\n",
              "        vertical-align: middle;\n",
              "    }\n",
              "\n",
              "    .dataframe tbody tr th {\n",
              "        vertical-align: top;\n",
              "    }\n",
              "\n",
              "    .dataframe thead th {\n",
              "        text-align: right;\n",
              "    }\n",
              "</style>\n",
              "<table border=\"1\" class=\"dataframe\">\n",
              "  <thead>\n",
              "    <tr style=\"text-align: right;\">\n",
              "      <th></th>\n",
              "      <th>GenderSelect</th>\n",
              "      <th>Country</th>\n",
              "      <th>Age</th>\n",
              "      <th>EmploymentStatus</th>\n",
              "      <th>StudentStatus</th>\n",
              "      <th>LearningDataScience</th>\n",
              "      <th>CodeWriter</th>\n",
              "      <th>CareerSwitcher</th>\n",
              "      <th>CurrentJobTitleSelect</th>\n",
              "      <th>TitleFit</th>\n",
              "      <th>CurrentEmployerType</th>\n",
              "      <th>MLToolNextYearSelect</th>\n",
              "      <th>MLMethodNextYearSelect</th>\n",
              "      <th>LanguageRecommendationSelect</th>\n",
              "      <th>PublicDatasetsSelect</th>\n",
              "      <th>LearningPlatformSelect</th>\n",
              "      <th>LearningPlatformUsefulnessArxiv</th>\n",
              "      <th>LearningPlatformUsefulnessBlogs</th>\n",
              "      <th>LearningPlatformUsefulnessCollege</th>\n",
              "      <th>LearningPlatformUsefulnessCompany</th>\n",
              "      <th>LearningPlatformUsefulnessConferences</th>\n",
              "      <th>LearningPlatformUsefulnessFriends</th>\n",
              "      <th>LearningPlatformUsefulnessKaggle</th>\n",
              "      <th>LearningPlatformUsefulnessNewsletters</th>\n",
              "      <th>LearningPlatformUsefulnessCommunities</th>\n",
              "      <th>LearningPlatformUsefulnessDocumentation</th>\n",
              "      <th>LearningPlatformUsefulnessCourses</th>\n",
              "      <th>LearningPlatformUsefulnessProjects</th>\n",
              "      <th>LearningPlatformUsefulnessPodcasts</th>\n",
              "      <th>LearningPlatformUsefulnessSO</th>\n",
              "      <th>LearningPlatformUsefulnessTextbook</th>\n",
              "      <th>LearningPlatformUsefulnessTradeBook</th>\n",
              "      <th>LearningPlatformUsefulnessTutoring</th>\n",
              "      <th>LearningPlatformUsefulnessYouTube</th>\n",
              "      <th>BlogsPodcastsNewslettersSelect</th>\n",
              "      <th>LearningDataScienceTime</th>\n",
              "      <th>JobSkillImportanceBigData</th>\n",
              "      <th>JobSkillImportanceDegree</th>\n",
              "      <th>JobSkillImportanceStats</th>\n",
              "      <th>JobSkillImportanceEnterpriseTools</th>\n",
              "      <th>...</th>\n",
              "      <th>WorkChallengeFrequencyITCoordination</th>\n",
              "      <th>WorkChallengeFrequencyHiringFunds</th>\n",
              "      <th>WorkChallengeFrequencyPrivacy</th>\n",
              "      <th>WorkChallengeFrequencyScaling</th>\n",
              "      <th>WorkChallengeFrequencyEnvironments</th>\n",
              "      <th>WorkChallengeFrequencyClarity</th>\n",
              "      <th>WorkChallengeFrequencyDataAccess</th>\n",
              "      <th>WorkChallengeFrequencyOtherSelect</th>\n",
              "      <th>WorkDataVisualizations</th>\n",
              "      <th>WorkInternalVsExternalTools</th>\n",
              "      <th>WorkMLTeamSeatSelect</th>\n",
              "      <th>WorkDatasets</th>\n",
              "      <th>WorkDatasetsChallenge</th>\n",
              "      <th>WorkDataStorage</th>\n",
              "      <th>WorkDataSharing</th>\n",
              "      <th>WorkDataSourcing</th>\n",
              "      <th>WorkCodeSharing</th>\n",
              "      <th>RemoteWork</th>\n",
              "      <th>CompensationAmount</th>\n",
              "      <th>CompensationCurrency</th>\n",
              "      <th>SalaryChange</th>\n",
              "      <th>JobSatisfaction</th>\n",
              "      <th>JobSearchResource</th>\n",
              "      <th>JobHuntTime</th>\n",
              "      <th>JobFactorLearning</th>\n",
              "      <th>JobFactorSalary</th>\n",
              "      <th>JobFactorOffice</th>\n",
              "      <th>JobFactorLanguages</th>\n",
              "      <th>JobFactorCommute</th>\n",
              "      <th>JobFactorManagement</th>\n",
              "      <th>JobFactorExperienceLevel</th>\n",
              "      <th>JobFactorDepartment</th>\n",
              "      <th>JobFactorTitle</th>\n",
              "      <th>JobFactorCompanyFunding</th>\n",
              "      <th>JobFactorImpact</th>\n",
              "      <th>JobFactorRemote</th>\n",
              "      <th>JobFactorIndustry</th>\n",
              "      <th>JobFactorLeaderReputation</th>\n",
              "      <th>JobFactorDiversity</th>\n",
              "      <th>JobFactorPublishingOpportunity</th>\n",
              "    </tr>\n",
              "  </thead>\n",
              "  <tbody>\n",
              "    <tr>\n",
              "      <th>0</th>\n",
              "      <td>Non-binary, genderqueer, or gender non-conforming</td>\n",
              "      <td>NaN</td>\n",
              "      <td>NaN</td>\n",
              "      <td>Employed full-time</td>\n",
              "      <td>NaN</td>\n",
              "      <td>NaN</td>\n",
              "      <td>Yes</td>\n",
              "      <td>NaN</td>\n",
              "      <td>DBA/Database Engineer</td>\n",
              "      <td>Fine</td>\n",
              "      <td>Employed by a company that doesn't perform adv...</td>\n",
              "      <td>SAS Base</td>\n",
              "      <td>Random Forests</td>\n",
              "      <td>F#</td>\n",
              "      <td>Dataset aggregator/platform (i.e. Socrata/Kagg...</td>\n",
              "      <td>College/University,Conferences,Podcasts,Trade ...</td>\n",
              "      <td>NaN</td>\n",
              "      <td>NaN</td>\n",
              "      <td>NaN</td>\n",
              "      <td>NaN</td>\n",
              "      <td>Very useful</td>\n",
              "      <td>NaN</td>\n",
              "      <td>NaN</td>\n",
              "      <td>NaN</td>\n",
              "      <td>NaN</td>\n",
              "      <td>NaN</td>\n",
              "      <td>NaN</td>\n",
              "      <td>NaN</td>\n",
              "      <td>Very useful</td>\n",
              "      <td>NaN</td>\n",
              "      <td>NaN</td>\n",
              "      <td>Somewhat useful</td>\n",
              "      <td>NaN</td>\n",
              "      <td>NaN</td>\n",
              "      <td>Becoming a Data Scientist Podcast,Data Machina...</td>\n",
              "      <td>NaN</td>\n",
              "      <td>NaN</td>\n",
              "      <td>NaN</td>\n",
              "      <td>NaN</td>\n",
              "      <td>NaN</td>\n",
              "      <td>...</td>\n",
              "      <td>NaN</td>\n",
              "      <td>NaN</td>\n",
              "      <td>Often</td>\n",
              "      <td>Most of the time</td>\n",
              "      <td>NaN</td>\n",
              "      <td>NaN</td>\n",
              "      <td>NaN</td>\n",
              "      <td>NaN</td>\n",
              "      <td>26-50% of projects</td>\n",
              "      <td>Do not know</td>\n",
              "      <td>Standalone Team</td>\n",
              "      <td>NaN</td>\n",
              "      <td>NaN</td>\n",
              "      <td>Document-oriented (e.g. MongoDB/Elasticsearch)...</td>\n",
              "      <td>Company Developed Platform,I don't typically s...</td>\n",
              "      <td>NaN</td>\n",
              "      <td>Mercurial,Subversion,Other</td>\n",
              "      <td>Always</td>\n",
              "      <td>NaN</td>\n",
              "      <td>NaN</td>\n",
              "      <td>I am not currently employed</td>\n",
              "      <td>5</td>\n",
              "      <td>NaN</td>\n",
              "      <td>NaN</td>\n",
              "      <td>NaN</td>\n",
              "      <td>NaN</td>\n",
              "      <td>NaN</td>\n",
              "      <td>NaN</td>\n",
              "      <td>NaN</td>\n",
              "      <td>NaN</td>\n",
              "      <td>NaN</td>\n",
              "      <td>NaN</td>\n",
              "      <td>NaN</td>\n",
              "      <td>NaN</td>\n",
              "      <td>NaN</td>\n",
              "      <td>NaN</td>\n",
              "      <td>NaN</td>\n",
              "      <td>NaN</td>\n",
              "      <td>NaN</td>\n",
              "      <td>NaN</td>\n",
              "    </tr>\n",
              "    <tr>\n",
              "      <th>1</th>\n",
              "      <td>Female</td>\n",
              "      <td>United States</td>\n",
              "      <td>30.0</td>\n",
              "      <td>Not employed, but looking for work</td>\n",
              "      <td>NaN</td>\n",
              "      <td>NaN</td>\n",
              "      <td>NaN</td>\n",
              "      <td>NaN</td>\n",
              "      <td>NaN</td>\n",
              "      <td>NaN</td>\n",
              "      <td>NaN</td>\n",
              "      <td>Python</td>\n",
              "      <td>Random Forests</td>\n",
              "      <td>Python</td>\n",
              "      <td>Dataset aggregator/platform (i.e. Socrata/Kagg...</td>\n",
              "      <td>Kaggle</td>\n",
              "      <td>NaN</td>\n",
              "      <td>NaN</td>\n",
              "      <td>NaN</td>\n",
              "      <td>NaN</td>\n",
              "      <td>NaN</td>\n",
              "      <td>NaN</td>\n",
              "      <td>Somewhat useful</td>\n",
              "      <td>NaN</td>\n",
              "      <td>NaN</td>\n",
              "      <td>NaN</td>\n",
              "      <td>NaN</td>\n",
              "      <td>NaN</td>\n",
              "      <td>NaN</td>\n",
              "      <td>NaN</td>\n",
              "      <td>NaN</td>\n",
              "      <td>NaN</td>\n",
              "      <td>NaN</td>\n",
              "      <td>NaN</td>\n",
              "      <td>Becoming a Data Scientist Podcast,Siraj Raval ...</td>\n",
              "      <td>1-2 years</td>\n",
              "      <td>NaN</td>\n",
              "      <td>Nice to have</td>\n",
              "      <td>Unnecessary</td>\n",
              "      <td>NaN</td>\n",
              "      <td>...</td>\n",
              "      <td>NaN</td>\n",
              "      <td>NaN</td>\n",
              "      <td>NaN</td>\n",
              "      <td>NaN</td>\n",
              "      <td>NaN</td>\n",
              "      <td>NaN</td>\n",
              "      <td>NaN</td>\n",
              "      <td>NaN</td>\n",
              "      <td>NaN</td>\n",
              "      <td>NaN</td>\n",
              "      <td>NaN</td>\n",
              "      <td>NaN</td>\n",
              "      <td>NaN</td>\n",
              "      <td>NaN</td>\n",
              "      <td>NaN</td>\n",
              "      <td>NaN</td>\n",
              "      <td>NaN</td>\n",
              "      <td>NaN</td>\n",
              "      <td>NaN</td>\n",
              "      <td>NaN</td>\n",
              "      <td>NaN</td>\n",
              "      <td>NaN</td>\n",
              "      <td>NaN</td>\n",
              "      <td>NaN</td>\n",
              "      <td>NaN</td>\n",
              "      <td>NaN</td>\n",
              "      <td>NaN</td>\n",
              "      <td>NaN</td>\n",
              "      <td>NaN</td>\n",
              "      <td>NaN</td>\n",
              "      <td>NaN</td>\n",
              "      <td>NaN</td>\n",
              "      <td>NaN</td>\n",
              "      <td>NaN</td>\n",
              "      <td>NaN</td>\n",
              "      <td>NaN</td>\n",
              "      <td>NaN</td>\n",
              "      <td>Somewhat important</td>\n",
              "      <td>NaN</td>\n",
              "      <td>NaN</td>\n",
              "    </tr>\n",
              "    <tr>\n",
              "      <th>2</th>\n",
              "      <td>Male</td>\n",
              "      <td>Canada</td>\n",
              "      <td>28.0</td>\n",
              "      <td>Not employed, but looking for work</td>\n",
              "      <td>NaN</td>\n",
              "      <td>NaN</td>\n",
              "      <td>NaN</td>\n",
              "      <td>NaN</td>\n",
              "      <td>NaN</td>\n",
              "      <td>NaN</td>\n",
              "      <td>NaN</td>\n",
              "      <td>Amazon Web services</td>\n",
              "      <td>Deep learning</td>\n",
              "      <td>R</td>\n",
              "      <td>Dataset aggregator/platform (i.e. Socrata/Kagg...</td>\n",
              "      <td>Arxiv,College/University,Kaggle,Online courses...</td>\n",
              "      <td>Very useful</td>\n",
              "      <td>NaN</td>\n",
              "      <td>Somewhat useful</td>\n",
              "      <td>NaN</td>\n",
              "      <td>NaN</td>\n",
              "      <td>NaN</td>\n",
              "      <td>Somewhat useful</td>\n",
              "      <td>NaN</td>\n",
              "      <td>NaN</td>\n",
              "      <td>NaN</td>\n",
              "      <td>Very useful</td>\n",
              "      <td>NaN</td>\n",
              "      <td>NaN</td>\n",
              "      <td>NaN</td>\n",
              "      <td>NaN</td>\n",
              "      <td>NaN</td>\n",
              "      <td>NaN</td>\n",
              "      <td>Very useful</td>\n",
              "      <td>FastML Blog,No Free Hunch Blog,Talking Machine...</td>\n",
              "      <td>1-2 years</td>\n",
              "      <td>Necessary</td>\n",
              "      <td>NaN</td>\n",
              "      <td>NaN</td>\n",
              "      <td>NaN</td>\n",
              "      <td>...</td>\n",
              "      <td>NaN</td>\n",
              "      <td>NaN</td>\n",
              "      <td>NaN</td>\n",
              "      <td>NaN</td>\n",
              "      <td>NaN</td>\n",
              "      <td>NaN</td>\n",
              "      <td>NaN</td>\n",
              "      <td>NaN</td>\n",
              "      <td>NaN</td>\n",
              "      <td>NaN</td>\n",
              "      <td>NaN</td>\n",
              "      <td>NaN</td>\n",
              "      <td>NaN</td>\n",
              "      <td>NaN</td>\n",
              "      <td>NaN</td>\n",
              "      <td>NaN</td>\n",
              "      <td>NaN</td>\n",
              "      <td>NaN</td>\n",
              "      <td>NaN</td>\n",
              "      <td>NaN</td>\n",
              "      <td>NaN</td>\n",
              "      <td>NaN</td>\n",
              "      <td>Asking friends, family members, or former coll...</td>\n",
              "      <td>1-2</td>\n",
              "      <td>Very Important</td>\n",
              "      <td>Very Important</td>\n",
              "      <td>Very Important</td>\n",
              "      <td>Very Important</td>\n",
              "      <td>Very Important</td>\n",
              "      <td>Very Important</td>\n",
              "      <td>Very Important</td>\n",
              "      <td>Very Important</td>\n",
              "      <td>Very Important</td>\n",
              "      <td>Very Important</td>\n",
              "      <td>Very Important</td>\n",
              "      <td>Very Important</td>\n",
              "      <td>Very Important</td>\n",
              "      <td>Very Important</td>\n",
              "      <td>Very Important</td>\n",
              "      <td>Very Important</td>\n",
              "    </tr>\n",
              "    <tr>\n",
              "      <th>3</th>\n",
              "      <td>Male</td>\n",
              "      <td>United States</td>\n",
              "      <td>56.0</td>\n",
              "      <td>Independent contractor, freelancer, or self-em...</td>\n",
              "      <td>NaN</td>\n",
              "      <td>NaN</td>\n",
              "      <td>Yes</td>\n",
              "      <td>NaN</td>\n",
              "      <td>Operations Research Practitioner</td>\n",
              "      <td>Poorly</td>\n",
              "      <td>Self-employed</td>\n",
              "      <td>TensorFlow</td>\n",
              "      <td>Neural Nets</td>\n",
              "      <td>Python</td>\n",
              "      <td>I collect my own data (e.g. web-scraping)</td>\n",
              "      <td>Blogs,College/University,Conferences,Friends n...</td>\n",
              "      <td>NaN</td>\n",
              "      <td>Very useful</td>\n",
              "      <td>Very useful</td>\n",
              "      <td>NaN</td>\n",
              "      <td>Very useful</td>\n",
              "      <td>Very useful</td>\n",
              "      <td>NaN</td>\n",
              "      <td>NaN</td>\n",
              "      <td>NaN</td>\n",
              "      <td>Very useful</td>\n",
              "      <td>Very useful</td>\n",
              "      <td>Very useful</td>\n",
              "      <td>NaN</td>\n",
              "      <td>NaN</td>\n",
              "      <td>NaN</td>\n",
              "      <td>NaN</td>\n",
              "      <td>NaN</td>\n",
              "      <td>NaN</td>\n",
              "      <td>KDnuggets Blog</td>\n",
              "      <td>NaN</td>\n",
              "      <td>NaN</td>\n",
              "      <td>NaN</td>\n",
              "      <td>NaN</td>\n",
              "      <td>NaN</td>\n",
              "      <td>...</td>\n",
              "      <td>NaN</td>\n",
              "      <td>Often</td>\n",
              "      <td>Often</td>\n",
              "      <td>Often</td>\n",
              "      <td>Often</td>\n",
              "      <td>Often</td>\n",
              "      <td>Often</td>\n",
              "      <td>NaN</td>\n",
              "      <td>100% of projects</td>\n",
              "      <td>Entirely internal</td>\n",
              "      <td>Standalone Team</td>\n",
              "      <td>Electricity data sets from government and states</td>\n",
              "      <td>Everything is custom, there is never a tool th...</td>\n",
              "      <td>Column-oriented relational (e.g. KDB/MariaDB),...</td>\n",
              "      <td>Company Developed Platform,Email</td>\n",
              "      <td>NaN</td>\n",
              "      <td>Generic cloud file sharing software (Dropbox/B...</td>\n",
              "      <td>NaN</td>\n",
              "      <td>250,000</td>\n",
              "      <td>USD</td>\n",
              "      <td>Has increased 20% or more</td>\n",
              "      <td>10 - Highly Satisfied</td>\n",
              "      <td>NaN</td>\n",
              "      <td>NaN</td>\n",
              "      <td>NaN</td>\n",
              "      <td>NaN</td>\n",
              "      <td>NaN</td>\n",
              "      <td>NaN</td>\n",
              "      <td>NaN</td>\n",
              "      <td>NaN</td>\n",
              "      <td>NaN</td>\n",
              "      <td>NaN</td>\n",
              "      <td>NaN</td>\n",
              "      <td>NaN</td>\n",
              "      <td>NaN</td>\n",
              "      <td>NaN</td>\n",
              "      <td>NaN</td>\n",
              "      <td>NaN</td>\n",
              "      <td>NaN</td>\n",
              "      <td>NaN</td>\n",
              "    </tr>\n",
              "    <tr>\n",
              "      <th>4</th>\n",
              "      <td>Male</td>\n",
              "      <td>Taiwan</td>\n",
              "      <td>38.0</td>\n",
              "      <td>Employed full-time</td>\n",
              "      <td>NaN</td>\n",
              "      <td>NaN</td>\n",
              "      <td>Yes</td>\n",
              "      <td>NaN</td>\n",
              "      <td>Computer Scientist</td>\n",
              "      <td>Fine</td>\n",
              "      <td>Employed by a company that doesn't perform adv...</td>\n",
              "      <td>TensorFlow</td>\n",
              "      <td>Text Mining</td>\n",
              "      <td>Python</td>\n",
              "      <td>GitHub</td>\n",
              "      <td>Arxiv,Conferences,Kaggle,Textbook</td>\n",
              "      <td>Very useful</td>\n",
              "      <td>NaN</td>\n",
              "      <td>NaN</td>\n",
              "      <td>NaN</td>\n",
              "      <td>Somewhat useful</td>\n",
              "      <td>NaN</td>\n",
              "      <td>Somewhat useful</td>\n",
              "      <td>NaN</td>\n",
              "      <td>NaN</td>\n",
              "      <td>NaN</td>\n",
              "      <td>NaN</td>\n",
              "      <td>NaN</td>\n",
              "      <td>NaN</td>\n",
              "      <td>NaN</td>\n",
              "      <td>Somewhat useful</td>\n",
              "      <td>NaN</td>\n",
              "      <td>NaN</td>\n",
              "      <td>NaN</td>\n",
              "      <td>Data Machina Newsletter,Jack's Import AI Newsl...</td>\n",
              "      <td>NaN</td>\n",
              "      <td>NaN</td>\n",
              "      <td>NaN</td>\n",
              "      <td>NaN</td>\n",
              "      <td>NaN</td>\n",
              "      <td>...</td>\n",
              "      <td>Sometimes</td>\n",
              "      <td>NaN</td>\n",
              "      <td>Most of the time</td>\n",
              "      <td>NaN</td>\n",
              "      <td>Sometimes</td>\n",
              "      <td>NaN</td>\n",
              "      <td>NaN</td>\n",
              "      <td>NaN</td>\n",
              "      <td>10-25% of projects</td>\n",
              "      <td>Approximately half internal and half external</td>\n",
              "      <td>Business Department</td>\n",
              "      <td>NaN</td>\n",
              "      <td>NaN</td>\n",
              "      <td>Flat files not in a database or cache (e.g. CS...</td>\n",
              "      <td>Company Developed Platform</td>\n",
              "      <td>NaN</td>\n",
              "      <td>Git</td>\n",
              "      <td>Rarely</td>\n",
              "      <td>NaN</td>\n",
              "      <td>NaN</td>\n",
              "      <td>I do not want to share information about my sa...</td>\n",
              "      <td>2</td>\n",
              "      <td>NaN</td>\n",
              "      <td>NaN</td>\n",
              "      <td>NaN</td>\n",
              "      <td>NaN</td>\n",
              "      <td>NaN</td>\n",
              "      <td>NaN</td>\n",
              "      <td>NaN</td>\n",
              "      <td>NaN</td>\n",
              "      <td>NaN</td>\n",
              "      <td>NaN</td>\n",
              "      <td>NaN</td>\n",
              "      <td>NaN</td>\n",
              "      <td>NaN</td>\n",
              "      <td>NaN</td>\n",
              "      <td>NaN</td>\n",
              "      <td>NaN</td>\n",
              "      <td>NaN</td>\n",
              "      <td>NaN</td>\n",
              "    </tr>\n",
              "  </tbody>\n",
              "</table>\n",
              "<p>5 rows × 228 columns</p>\n",
              "</div>"
            ],
            "text/plain": [
              "                                        GenderSelect  ... JobFactorPublishingOpportunity\n",
              "0  Non-binary, genderqueer, or gender non-conforming  ...                            NaN\n",
              "1                                             Female  ...                            NaN\n",
              "2                                               Male  ...                 Very Important\n",
              "3                                               Male  ...                            NaN\n",
              "4                                               Male  ...                            NaN\n",
              "\n",
              "[5 rows x 228 columns]"
            ]
          },
          "metadata": {},
          "execution_count": 90
        }
      ]
    },
    {
      "cell_type": "code",
      "metadata": {
        "colab": {
          "base_uri": "https://localhost:8080/",
          "height": 337
        },
        "id": "ty7058UqPCl0",
        "outputId": "059b869c-4836-4866-d42c-1393ec6def60"
      },
      "source": [
        "import missingno as msno\n",
        "msno.matrix(mcq, figsize=(12,5))"
      ],
      "execution_count": null,
      "outputs": [
        {
          "output_type": "execute_result",
          "data": {
            "text/plain": [
              "<matplotlib.axes._subplots.AxesSubplot at 0x7f00c558eb90>"
            ]
          },
          "metadata": {},
          "execution_count": 19
        },
        {
          "output_type": "display_data",
          "data": {
            "image/png": "[encoded data removed]",
            "text/plain": [
              "<Figure size 864x360 with 2 Axes>"
            ]
          },
          "metadata": {
            "needs_background": "light"
          }
        }
      ]
    },
    {
      "cell_type": "code",
      "metadata": {
        "colab": {
          "base_uri": "https://localhost:8080/",
          "height": 297
        },
        "id": "e8z_Ugj-PQnq",
        "outputId": "0a734ed8-9266-43f8-f7c7-16be760eb8d5"
      },
      "source": [
        "sns.countplot(y='GenderSelect', data = mcq)"
      ],
      "execution_count": null,
      "outputs": [
        {
          "output_type": "execute_result",
          "data": {
            "text/plain": [
              "<matplotlib.axes._subplots.AxesSubplot at 0x7f00bd214cd0>"
            ]
          },
          "metadata": {},
          "execution_count": 20
        },
        {
          "output_type": "display_data",
          "data": {
            "image/png": "[encoded data removed]",
            "text/plain": [
              "<Figure size 432x288 with 1 Axes>"
            ]
          },
          "metadata": {
            "needs_background": "light"
          }
        }
      ]
    },
    {
      "cell_type": "code",
      "metadata": {
        "colab": {
          "base_uri": "https://localhost:8080/",
          "height": 665
        },
        "id": "nIG48pklPkWu",
        "outputId": "9332f5c1-88cc-433a-b55a-2408e07b83d0"
      },
      "source": [
        "con_df = pd.DataFrame(mcq['Country'].value_counts())\n",
        "\n",
        "con_df['국가'] = con_df.index\n",
        "con_df.columns = ['응답 수','국가']\n",
        "#print(con_df)\n",
        "con_df = con_df.reset_index().drop('index', axis=1)\n",
        "con_df.head(20)"
      ],
      "execution_count": null,
      "outputs": [
        {
          "output_type": "execute_result",
          "data": {
            "text/html": [
              "<div>\n",
              "<style scoped>\n",
              "    .dataframe tbody tr th:only-of-type {\n",
              "        vertical-align: middle;\n",
              "    }\n",
              "\n",
              "    .dataframe tbody tr th {\n",
              "        vertical-align: top;\n",
              "    }\n",
              "\n",
              "    .dataframe thead th {\n",
              "        text-align: right;\n",
              "    }\n",
              "</style>\n",
              "<table border=\"1\" class=\"dataframe\">\n",
              "  <thead>\n",
              "    <tr style=\"text-align: right;\">\n",
              "      <th></th>\n",
              "      <th>응답 수</th>\n",
              "      <th>국가</th>\n",
              "    </tr>\n",
              "  </thead>\n",
              "  <tbody>\n",
              "    <tr>\n",
              "      <th>0</th>\n",
              "      <td>4197</td>\n",
              "      <td>United States</td>\n",
              "    </tr>\n",
              "    <tr>\n",
              "      <th>1</th>\n",
              "      <td>2704</td>\n",
              "      <td>India</td>\n",
              "    </tr>\n",
              "    <tr>\n",
              "      <th>2</th>\n",
              "      <td>1023</td>\n",
              "      <td>Other</td>\n",
              "    </tr>\n",
              "    <tr>\n",
              "      <th>3</th>\n",
              "      <td>578</td>\n",
              "      <td>Russia</td>\n",
              "    </tr>\n",
              "    <tr>\n",
              "      <th>4</th>\n",
              "      <td>535</td>\n",
              "      <td>United Kingdom</td>\n",
              "    </tr>\n",
              "    <tr>\n",
              "      <th>5</th>\n",
              "      <td>471</td>\n",
              "      <td>People 's Republic of China</td>\n",
              "    </tr>\n",
              "    <tr>\n",
              "      <th>6</th>\n",
              "      <td>465</td>\n",
              "      <td>Brazil</td>\n",
              "    </tr>\n",
              "    <tr>\n",
              "      <th>7</th>\n",
              "      <td>460</td>\n",
              "      <td>Germany</td>\n",
              "    </tr>\n",
              "    <tr>\n",
              "      <th>8</th>\n",
              "      <td>442</td>\n",
              "      <td>France</td>\n",
              "    </tr>\n",
              "    <tr>\n",
              "      <th>9</th>\n",
              "      <td>440</td>\n",
              "      <td>Canada</td>\n",
              "    </tr>\n",
              "    <tr>\n",
              "      <th>10</th>\n",
              "      <td>421</td>\n",
              "      <td>Australia</td>\n",
              "    </tr>\n",
              "    <tr>\n",
              "      <th>11</th>\n",
              "      <td>320</td>\n",
              "      <td>Spain</td>\n",
              "    </tr>\n",
              "    <tr>\n",
              "      <th>12</th>\n",
              "      <td>277</td>\n",
              "      <td>Japan</td>\n",
              "    </tr>\n",
              "    <tr>\n",
              "      <th>13</th>\n",
              "      <td>254</td>\n",
              "      <td>Taiwan</td>\n",
              "    </tr>\n",
              "    <tr>\n",
              "      <th>14</th>\n",
              "      <td>238</td>\n",
              "      <td>Italy</td>\n",
              "    </tr>\n",
              "    <tr>\n",
              "      <th>15</th>\n",
              "      <td>205</td>\n",
              "      <td>Netherlands</td>\n",
              "    </tr>\n",
              "    <tr>\n",
              "      <th>16</th>\n",
              "      <td>196</td>\n",
              "      <td>Ukraine</td>\n",
              "    </tr>\n",
              "    <tr>\n",
              "      <th>17</th>\n",
              "      <td>194</td>\n",
              "      <td>South Korea</td>\n",
              "    </tr>\n",
              "    <tr>\n",
              "      <th>18</th>\n",
              "      <td>184</td>\n",
              "      <td>Poland</td>\n",
              "    </tr>\n",
              "    <tr>\n",
              "      <th>19</th>\n",
              "      <td>184</td>\n",
              "      <td>Singapore</td>\n",
              "    </tr>\n",
              "  </tbody>\n",
              "</table>\n",
              "</div>"
            ],
            "text/plain": [
              "    응답 수                           국가\n",
              "0   4197                United States\n",
              "1   2704                        India\n",
              "2   1023                        Other\n",
              "3    578                       Russia\n",
              "4    535               United Kingdom\n",
              "5    471  People 's Republic of China\n",
              "6    465                       Brazil\n",
              "7    460                      Germany\n",
              "8    442                       France\n",
              "9    440                       Canada\n",
              "10   421                    Australia\n",
              "11   320                        Spain\n",
              "12   277                        Japan\n",
              "13   254                       Taiwan\n",
              "14   238                        Italy\n",
              "15   205                  Netherlands\n",
              "16   196                      Ukraine\n",
              "17   194                  South Korea\n",
              "18   184                       Poland\n",
              "19   184                    Singapore"
            ]
          },
          "metadata": {},
          "execution_count": 31
        }
      ]
    },
    {
      "cell_type": "code",
      "metadata": {
        "colab": {
          "base_uri": "https://localhost:8080/"
        },
        "id": "tKLwJ6RkPusL",
        "outputId": "a269cfe6-f721-4900-c24e-2e55e627e05d"
      },
      "source": [
        "mcq['Age'].describe()"
      ],
      "execution_count": null,
      "outputs": [
        {
          "output_type": "execute_result",
          "data": {
            "text/plain": [
              "count    16385.000000\n",
              "mean        32.372841\n",
              "std         10.473487\n",
              "min          0.000000\n",
              "25%         25.000000\n",
              "50%         30.000000\n",
              "75%         37.000000\n",
              "max        100.000000\n",
              "Name: Age, dtype: float64"
            ]
          },
          "metadata": {},
          "execution_count": 32
        }
      ]
    },
    {
      "cell_type": "code",
      "metadata": {
        "colab": {
          "base_uri": "https://localhost:8080/",
          "height": 386
        },
        "id": "X6t2dhkYQqR9",
        "outputId": "f0c2264f-d845-4b3b-b2cd-8f461459bcd4"
      },
      "source": [
        "sns.displot(mcq[mcq['Age']> 0]['Age'])"
      ],
      "execution_count": null,
      "outputs": [
        {
          "output_type": "execute_result",
          "data": {
            "text/plain": [
              "<seaborn.axisgrid.FacetGrid at 0x7f00bcb34dd0>"
            ]
          },
          "metadata": {},
          "execution_count": 33
        },
        {
          "output_type": "display_data",
          "data": {
            "image/png": "[encoded data removed]",
            "text/plain": [
              "<Figure size 360x360 with 1 Axes>"
            ]
          },
          "metadata": {
            "needs_background": "light"
          }
        }
      ]
    },
    {
      "cell_type": "code",
      "metadata": {
        "colab": {
          "base_uri": "https://localhost:8080/",
          "height": 297
        },
        "id": "OX55roHmQ34U",
        "outputId": "174dbe5d-fbe7-48d3-b9a3-94d85536b2f5"
      },
      "source": [
        "sns.countplot( y ='FormalEducation', data=mcq)"
      ],
      "execution_count": null,
      "outputs": [
        {
          "output_type": "execute_result",
          "data": {
            "text/plain": [
              "<matplotlib.axes._subplots.AxesSubplot at 0x7f00b77cc8d0>"
            ]
          },
          "metadata": {},
          "execution_count": 34
        },
        {
          "output_type": "display_data",
          "data": {
            "image/png": "[encoded data removed]",
            "text/plain": [
              "<Figure size 432x288 with 1 Axes>"
            ]
          },
          "metadata": {
            "needs_background": "light"
          }
        }
      ]
    },
    {
      "cell_type": "code",
      "metadata": {
        "colab": {
          "base_uri": "https://localhost:8080/",
          "height": 511
        },
        "id": "ENZrUQWKRipv",
        "outputId": "d5742585-b7f9-47d1-bd69-7ac25d4188f4"
      },
      "source": [
        "\n",
        "maj_df = pd.DataFrame(mcq['MajorSelect'].value_counts())\n",
        "maj_df.columns = ['전공']\n",
        "maj_df\n",
        "\n"
      ],
      "execution_count": null,
      "outputs": [
        {
          "output_type": "execute_result",
          "data": {
            "text/html": [
              "<div>\n",
              "<style scoped>\n",
              "    .dataframe tbody tr th:only-of-type {\n",
              "        vertical-align: middle;\n",
              "    }\n",
              "\n",
              "    .dataframe tbody tr th {\n",
              "        vertical-align: top;\n",
              "    }\n",
              "\n",
              "    .dataframe thead th {\n",
              "        text-align: right;\n",
              "    }\n",
              "</style>\n",
              "<table border=\"1\" class=\"dataframe\">\n",
              "  <thead>\n",
              "    <tr style=\"text-align: right;\">\n",
              "      <th></th>\n",
              "      <th>전공</th>\n",
              "    </tr>\n",
              "  </thead>\n",
              "  <tbody>\n",
              "    <tr>\n",
              "      <th>Computer Science</th>\n",
              "      <td>4397</td>\n",
              "    </tr>\n",
              "    <tr>\n",
              "      <th>Mathematics or statistics</th>\n",
              "      <td>2220</td>\n",
              "    </tr>\n",
              "    <tr>\n",
              "      <th>Engineering (non-computer focused)</th>\n",
              "      <td>1339</td>\n",
              "    </tr>\n",
              "    <tr>\n",
              "      <th>Electrical Engineering</th>\n",
              "      <td>1303</td>\n",
              "    </tr>\n",
              "    <tr>\n",
              "      <th>Other</th>\n",
              "      <td>848</td>\n",
              "    </tr>\n",
              "    <tr>\n",
              "      <th>Physics</th>\n",
              "      <td>830</td>\n",
              "    </tr>\n",
              "    <tr>\n",
              "      <th>Information technology, networking, or system administration</th>\n",
              "      <td>693</td>\n",
              "    </tr>\n",
              "    <tr>\n",
              "      <th>A social science</th>\n",
              "      <td>531</td>\n",
              "    </tr>\n",
              "    <tr>\n",
              "      <th>Biology</th>\n",
              "      <td>274</td>\n",
              "    </tr>\n",
              "    <tr>\n",
              "      <th>Management information systems</th>\n",
              "      <td>237</td>\n",
              "    </tr>\n",
              "    <tr>\n",
              "      <th>A humanities discipline</th>\n",
              "      <td>198</td>\n",
              "    </tr>\n",
              "    <tr>\n",
              "      <th>A health science</th>\n",
              "      <td>152</td>\n",
              "    </tr>\n",
              "    <tr>\n",
              "      <th>Psychology</th>\n",
              "      <td>137</td>\n",
              "    </tr>\n",
              "    <tr>\n",
              "      <th>I never declared a major</th>\n",
              "      <td>65</td>\n",
              "    </tr>\n",
              "    <tr>\n",
              "      <th>Fine arts or performing arts</th>\n",
              "      <td>57</td>\n",
              "    </tr>\n",
              "  </tbody>\n",
              "</table>\n",
              "</div>"
            ],
            "text/plain": [
              "                                                      전공\n",
              "Computer Science                                    4397\n",
              "Mathematics or statistics                           2220\n",
              "Engineering (non-computer focused)                  1339\n",
              "Electrical Engineering                              1303\n",
              "Other                                                848\n",
              "Physics                                              830\n",
              "Information technology, networking, or system a...   693\n",
              "A social science                                     531\n",
              "Biology                                              274\n",
              "Management information systems                       237\n",
              "A humanities discipline                              198\n",
              "A health science                                     152\n",
              "Psychology                                           137\n",
              "I never declared a major                              65\n",
              "Fine arts or performing arts                          57"
            ]
          },
          "metadata": {},
          "execution_count": 58
        }
      ]
    },
    {
      "cell_type": "code",
      "metadata": {
        "colab": {
          "base_uri": "https://localhost:8080/",
          "height": 511
        },
        "id": "0C8QB3-XSSc_",
        "outputId": "518502b2-0236-4e9a-80ae-b553817ecfc6"
      },
      "source": [
        "mcq_major_count = pd.DataFrame(\n",
        "    mcq['MajorSelect'].value_counts())\n",
        "mcq_major_percent = pd.DataFrame(\n",
        "    mcq['MajorSelect'].value_counts(normalize=True))\n",
        "#mcq_major_df = mcq_major_count.merge(mcq_major_percent, left_index=True, right_index=True)\n",
        "mcq_major_df.columns = ['응답수','비율']\n",
        "mcq_major_df"
      ],
      "execution_count": null,
      "outputs": [
        {
          "output_type": "execute_result",
          "data": {
            "text/html": [
              "<div>\n",
              "<style scoped>\n",
              "    .dataframe tbody tr th:only-of-type {\n",
              "        vertical-align: middle;\n",
              "    }\n",
              "\n",
              "    .dataframe tbody tr th {\n",
              "        vertical-align: top;\n",
              "    }\n",
              "\n",
              "    .dataframe thead th {\n",
              "        text-align: right;\n",
              "    }\n",
              "</style>\n",
              "<table border=\"1\" class=\"dataframe\">\n",
              "  <thead>\n",
              "    <tr style=\"text-align: right;\">\n",
              "      <th></th>\n",
              "      <th>응답수</th>\n",
              "      <th>비율</th>\n",
              "    </tr>\n",
              "  </thead>\n",
              "  <tbody>\n",
              "    <tr>\n",
              "      <th>Computer Science</th>\n",
              "      <td>4397</td>\n",
              "      <td>0.331074</td>\n",
              "    </tr>\n",
              "    <tr>\n",
              "      <th>Mathematics or statistics</th>\n",
              "      <td>2220</td>\n",
              "      <td>0.167156</td>\n",
              "    </tr>\n",
              "    <tr>\n",
              "      <th>Engineering (non-computer focused)</th>\n",
              "      <td>1339</td>\n",
              "      <td>0.100821</td>\n",
              "    </tr>\n",
              "    <tr>\n",
              "      <th>Electrical Engineering</th>\n",
              "      <td>1303</td>\n",
              "      <td>0.098110</td>\n",
              "    </tr>\n",
              "    <tr>\n",
              "      <th>Other</th>\n",
              "      <td>848</td>\n",
              "      <td>0.063851</td>\n",
              "    </tr>\n",
              "    <tr>\n",
              "      <th>Physics</th>\n",
              "      <td>830</td>\n",
              "      <td>0.062495</td>\n",
              "    </tr>\n",
              "    <tr>\n",
              "      <th>Information technology, networking, or system administration</th>\n",
              "      <td>693</td>\n",
              "      <td>0.052180</td>\n",
              "    </tr>\n",
              "    <tr>\n",
              "      <th>A social science</th>\n",
              "      <td>531</td>\n",
              "      <td>0.039982</td>\n",
              "    </tr>\n",
              "    <tr>\n",
              "      <th>Biology</th>\n",
              "      <td>274</td>\n",
              "      <td>0.020631</td>\n",
              "    </tr>\n",
              "    <tr>\n",
              "      <th>Management information systems</th>\n",
              "      <td>237</td>\n",
              "      <td>0.017845</td>\n",
              "    </tr>\n",
              "    <tr>\n",
              "      <th>A humanities discipline</th>\n",
              "      <td>198</td>\n",
              "      <td>0.014909</td>\n",
              "    </tr>\n",
              "    <tr>\n",
              "      <th>A health science</th>\n",
              "      <td>152</td>\n",
              "      <td>0.011445</td>\n",
              "    </tr>\n",
              "    <tr>\n",
              "      <th>Psychology</th>\n",
              "      <td>137</td>\n",
              "      <td>0.010315</td>\n",
              "    </tr>\n",
              "    <tr>\n",
              "      <th>I never declared a major</th>\n",
              "      <td>65</td>\n",
              "      <td>0.004894</td>\n",
              "    </tr>\n",
              "    <tr>\n",
              "      <th>Fine arts or performing arts</th>\n",
              "      <td>57</td>\n",
              "      <td>0.004292</td>\n",
              "    </tr>\n",
              "  </tbody>\n",
              "</table>\n",
              "</div>"
            ],
            "text/plain": [
              "                                                     응답수        비율\n",
              "Computer Science                                    4397  0.331074\n",
              "Mathematics or statistics                           2220  0.167156\n",
              "Engineering (non-computer focused)                  1339  0.100821\n",
              "Electrical Engineering                              1303  0.098110\n",
              "Other                                                848  0.063851\n",
              "Physics                                              830  0.062495\n",
              "Information technology, networking, or system a...   693  0.052180\n",
              "A social science                                     531  0.039982\n",
              "Biology                                              274  0.020631\n",
              "Management information systems                       237  0.017845\n",
              "A humanities discipline                              198  0.014909\n",
              "A health science                                     152  0.011445\n",
              "Psychology                                           137  0.010315\n",
              "I never declared a major                              65  0.004894\n",
              "Fine arts or performing arts                          57  0.004292"
            ]
          },
          "metadata": {},
          "execution_count": 63
        }
      ]
    },
    {
      "cell_type": "code",
      "metadata": {
        "id": "TD9dwBFe8YSQ"
      },
      "source": [
        ""
      ],
      "execution_count": null,
      "outputs": []
    },
    {
      "cell_type": "code",
      "metadata": {
        "colab": {
          "base_uri": "https://localhost:8080/",
          "height": 49
        },
        "id": "SQk8P_RBYbUA",
        "outputId": "18de3754-f694-4223-d04f-85b88806e9e0"
      },
      "source": [
        ""
      ],
      "execution_count": null,
      "outputs": [
        {
          "output_type": "execute_result",
          "data": {
            "text/html": [
              "<div>\n",
              "<style scoped>\n",
              "    .dataframe tbody tr th:only-of-type {\n",
              "        vertical-align: middle;\n",
              "    }\n",
              "\n",
              "    .dataframe tbody tr th {\n",
              "        vertical-align: top;\n",
              "    }\n",
              "\n",
              "    .dataframe thead th {\n",
              "        text-align: right;\n",
              "    }\n",
              "</style>\n",
              "<table border=\"1\" class=\"dataframe\">\n",
              "  <thead>\n",
              "    <tr style=\"text-align: right;\">\n",
              "      <th></th>\n",
              "      <th>MajorSelect</th>\n",
              "    </tr>\n",
              "  </thead>\n",
              "  <tbody>\n",
              "  </tbody>\n",
              "</table>\n",
              "</div>"
            ],
            "text/plain": [
              "Empty DataFrame\n",
              "Columns: [MajorSelect]\n",
              "Index: []"
            ]
          },
          "metadata": {},
          "execution_count": 68
        }
      ]
    },
    {
      "cell_type": "code",
      "metadata": {
        "colab": {
          "base_uri": "https://localhost:8080/",
          "height": 624
        },
        "id": "jZB7AJr_YzVb",
        "outputId": "a62f3804-ab90-4009-c070-75cd4c47a653"
      },
      "source": [
        "plt.figure(figsize=(6,10))\n",
        "sns.countplot(y='MajorSelect', data = mcq)"
      ],
      "execution_count": null,
      "outputs": [
        {
          "output_type": "execute_result",
          "data": {
            "text/plain": [
              "<matplotlib.axes._subplots.AxesSubplot at 0x7f00b6fe7dd0>"
            ]
          },
          "metadata": {},
          "execution_count": 74
        },
        {
          "output_type": "display_data",
          "data": {
            "image/png": "[encoded data removed]",
            "text/plain": [
              "<Figure size 432x720 with 1 Axes>"
            ]
          },
          "metadata": {
            "needs_background": "light"
          }
        }
      ]
    },
    {
      "cell_type": "code",
      "metadata": {
        "colab": {
          "base_uri": "https://localhost:8080/",
          "height": 265
        },
        "id": "A26x3HB6aT7m",
        "outputId": "abe6117f-ff28-4d67-9623-d950be7f6445"
      },
      "source": [
        "mcq_es_count = pd.DataFrame(mcq['EmploymentStatus'].value_counts())\n",
        "mcq_es_percent = pd.DataFrame(mcq['EmploymentStatus'].value_counts(normalize=True))\n",
        "mcq_es_df = mcq_es_count.merge(mcq_es_percent, left_index=True, right_index=True)\n",
        "mcq_es_df.columns = ['응답 수','비율']\n",
        "mcq_es_df"
      ],
      "execution_count": null,
      "outputs": [
        {
          "output_type": "execute_result",
          "data": {
            "text/html": [
              "<div>\n",
              "<style scoped>\n",
              "    .dataframe tbody tr th:only-of-type {\n",
              "        vertical-align: middle;\n",
              "    }\n",
              "\n",
              "    .dataframe tbody tr th {\n",
              "        vertical-align: top;\n",
              "    }\n",
              "\n",
              "    .dataframe thead th {\n",
              "        text-align: right;\n",
              "    }\n",
              "</style>\n",
              "<table border=\"1\" class=\"dataframe\">\n",
              "  <thead>\n",
              "    <tr style=\"text-align: right;\">\n",
              "      <th></th>\n",
              "      <th>응답 수</th>\n",
              "      <th>비율</th>\n",
              "    </tr>\n",
              "  </thead>\n",
              "  <tbody>\n",
              "    <tr>\n",
              "      <th>Employed full-time</th>\n",
              "      <td>10897</td>\n",
              "      <td>0.651890</td>\n",
              "    </tr>\n",
              "    <tr>\n",
              "      <th>Not employed, but looking for work</th>\n",
              "      <td>2110</td>\n",
              "      <td>0.126226</td>\n",
              "    </tr>\n",
              "    <tr>\n",
              "      <th>Independent contractor, freelancer, or self-employed</th>\n",
              "      <td>1330</td>\n",
              "      <td>0.079564</td>\n",
              "    </tr>\n",
              "    <tr>\n",
              "      <th>Not employed, and not looking for work</th>\n",
              "      <td>924</td>\n",
              "      <td>0.055276</td>\n",
              "    </tr>\n",
              "    <tr>\n",
              "      <th>Employed part-time</th>\n",
              "      <td>917</td>\n",
              "      <td>0.054858</td>\n",
              "    </tr>\n",
              "    <tr>\n",
              "      <th>I prefer not to say</th>\n",
              "      <td>420</td>\n",
              "      <td>0.025126</td>\n",
              "    </tr>\n",
              "    <tr>\n",
              "      <th>Retired</th>\n",
              "      <td>118</td>\n",
              "      <td>0.007059</td>\n",
              "    </tr>\n",
              "  </tbody>\n",
              "</table>\n",
              "</div>"
            ],
            "text/plain": [
              "                                                     응답 수        비율\n",
              "Employed full-time                                  10897  0.651890\n",
              "Not employed, but looking for work                   2110  0.126226\n",
              "Independent contractor, freelancer, or self-emp...   1330  0.079564\n",
              "Not employed, and not looking for work                924  0.055276\n",
              "Employed part-time                                    917  0.054858\n",
              "I prefer not to say                                   420  0.025126\n",
              "Retired                                               118  0.007059"
            ]
          },
          "metadata": {},
          "execution_count": 75
        }
      ]
    },
    {
      "cell_type": "code",
      "metadata": {
        "colab": {
          "base_uri": "https://localhost:8080/",
          "height": 169
        },
        "id": "-6xknVKxbX9_",
        "outputId": "7dff162c-1e7a-4134-deb6-bc67287d995d"
      },
      "source": [
        "\\"
      ],
      "execution_count": null,
      "outputs": [
        {
          "output_type": "error",
          "ename": "TypeError",
          "evalue": "ignored",
          "traceback": [
            "\u001b[0;31m---------------------------------------------------------------------------\u001b[0m",
            "\u001b[0;31mTypeError\u001b[0m                                 Traceback (most recent call last)",
            "\u001b[0;32m<ipython-input-78-c2afbc8940c0>\u001b[0m in \u001b[0;36m<module>\u001b[0;34m()\u001b[0m\n\u001b[0;32m----> 1\u001b[0;31m \u001b[0mmcq_es_count\u001b[0m\u001b[0;34m(\u001b[0m\u001b[0;32mTrue\u001b[0m\u001b[0;34m)\u001b[0m\u001b[0;34m\u001b[0m\u001b[0;34m\u001b[0m\u001b[0m\n\u001b[0m",
            "\u001b[0;31mTypeError\u001b[0m: 'DataFrame' object is not callable"
          ]
        }
      ]
    },
    {
      "cell_type": "code",
      "metadata": {
        "colab": {
          "base_uri": "https://localhost:8080/",
          "height": 297
        },
        "id": "3xDj1vJdcmjW",
        "outputId": "d6805b6c-bd65-4d20-aad8-66917e479c24"
      },
      "source": [
        "sns.countplot(y='EmploymentStatus', data=mcq)"
      ],
      "execution_count": null,
      "outputs": [
        {
          "output_type": "execute_result",
          "data": {
            "text/plain": [
              "<matplotlib.axes._subplots.AxesSubplot at 0x7f00b6e92f50>"
            ]
          },
          "metadata": {},
          "execution_count": 79
        },
        {
          "output_type": "display_data",
          "data": {
            "image/png": "[encoded data removed]",
            "text/plain": [
              "<Figure size 432x288 with 1 Axes>"
            ]
          },
          "metadata": {
            "needs_background": "light"
          }
        }
      ]
    },
    {
      "cell_type": "code",
      "metadata": {
        "colab": {
          "base_uri": "https://localhost:8080/",
          "height": 297
        },
        "id": "PKzMxNggdAXe",
        "outputId": "03a2e22f-f5a6-429e-f8c7-139bb2ff92bc"
      },
      "source": [
        "sns.countplot(y='Tenure', data = mcq)"
      ],
      "execution_count": null,
      "outputs": [
        {
          "output_type": "execute_result",
          "data": {
            "text/plain": [
              "<matplotlib.axes._subplots.AxesSubplot at 0x7f00b6dfb390>"
            ]
          },
          "metadata": {},
          "execution_count": 80
        },
        {
          "output_type": "display_data",
          "data": {
            "image/png": "[encoded data removed]",
            "text/plain": [
              "<Figure size 432x288 with 1 Axes>"
            ]
          },
          "metadata": {
            "needs_background": "light"
          }
        }
      ]
    },
    {
      "cell_type": "code",
      "metadata": {
        "colab": {
          "base_uri": "https://localhost:8080/",
          "height": 380
        },
        "id": "x5JVKlOvdL2x",
        "outputId": "459b37ac-0591-4c55-d9d3-8f0c9df82da8"
      },
      "source": [
        "\n",
        "sns.countplot(x='Tenure', data = mcq)\n",
        "plt.xticks(rotation=30, ha='right')"
      ],
      "execution_count": null,
      "outputs": [
        {
          "output_type": "execute_result",
          "data": {
            "text/plain": [
              "(array([0, 1, 2, 3, 4, 5]), <a list of 6 Text major ticklabel objects>)"
            ]
          },
          "metadata": {},
          "execution_count": 99
        },
        {
          "output_type": "display_data",
          "data": {
            "image/png": "[encoded data removed]",
            "text/plain": [
              "<Figure size 432x288 with 1 Axes>"
            ]
          },
          "metadata": {
            "needs_background": "light"
          }
        }
      ]
    },
    {
      "cell_type": "code",
      "metadata": {
        "colab": {
          "base_uri": "https://localhost:8080/"
        },
        "id": "vLOuAXZYdXY9",
        "outputId": "79fbbfe9-7cc4-451f-c31c-8910e38f9ea0"
      },
      "source": [
        "mcq['Tenure']"
      ],
      "execution_count": null,
      "outputs": [
        {
          "output_type": "execute_result",
          "data": {
            "text/plain": [
              "0        More than 10 years\n",
              "1          Less than a year\n",
              "2              3 to 5 years\n",
              "3        More than 10 years\n",
              "4        More than 10 years\n",
              "                ...        \n",
              "16711      Less than a year\n",
              "16712          1 to 2 years\n",
              "16713                   NaN\n",
              "16714                   NaN\n",
              "16715                   NaN\n",
              "Name: Tenure, Length: 16716, dtype: object"
            ]
          },
          "metadata": {},
          "execution_count": 94
        }
      ]
    },
    {
      "cell_type": "code",
      "metadata": {
        "colab": {
          "base_uri": "https://localhost:8080/",
          "height": 297
        },
        "id": "CiqKVCaIfAHI",
        "outputId": "cf060392-19fd-4ff6-bcf2-ecd7a00c709e"
      },
      "source": [
        "sns.countplot(y='Tenure',data=mcq)"
      ],
      "execution_count": null,
      "outputs": [
        {
          "output_type": "execute_result",
          "data": {
            "text/plain": [
              "<matplotlib.axes._subplots.AxesSubplot at 0x7f00b6a2db90>"
            ]
          },
          "metadata": {},
          "execution_count": 100
        },
        {
          "output_type": "display_data",
          "data": {
            "image/png": "[encoded data removed]",
            "text/plain": [
              "<Figure size 432x288 with 1 Axes>"
            ]
          },
          "metadata": {
            "needs_background": "light"
          }
        }
      ]
    },
    {
      "cell_type": "code",
      "metadata": {
        "id": "iTr3cpLYgTp3"
      },
      "source": [
        "Korea = mcq.loc[(mcq['Country']== 'South Korea')]"
      ],
      "execution_count": null,
      "outputs": []
    },
    {
      "cell_type": "code",
      "metadata": {
        "colab": {
          "base_uri": "https://localhost:8080/",
          "height": 386
        },
        "id": "14VxWNqxgiGE",
        "outputId": "55ccbe01-ad2f-492c-9d9a-a9a5deeb5e7c"
      },
      "source": [
        "\n",
        "Korea_male = Korea.loc[Korea['GenderSelect']=='Male']\n",
        "sns.displot(Korea_male['Age'].dropna())"
      ],
      "execution_count": null,
      "outputs": [
        {
          "output_type": "execute_result",
          "data": {
            "text/plain": [
              "<seaborn.axisgrid.FacetGrid at 0x7f00b69dc150>"
            ]
          },
          "metadata": {},
          "execution_count": 117
        },
        {
          "output_type": "display_data",
          "data": {
            "image/png": "[encoded data removed]",
            "text/plain": [
              "<Figure size 360x360 with 1 Axes>"
            ]
          },
          "metadata": {
            "needs_background": "light"
          }
        }
      ]
    },
    {
      "cell_type": "code",
      "metadata": {
        "colab": {
          "base_uri": "https://localhost:8080/",
          "height": 402
        },
        "id": "t-NFt5zUiX8d",
        "outputId": "83ea5771-06f7-4123-84d2-ee7edfb14258"
      },
      "source": [
        "sns.displot(Korea['Age'].dropna())\n",
        "print('한국 남자 인터뷰수: ' + str(Korea_male.shape[0]))\n",
        "plt.title('Korean_male')\n",
        "plt.show()"
      ],
      "execution_count": null,
      "outputs": [
        {
          "output_type": "stream",
          "name": "stdout",
          "text": [
            "한국 남자 인터뷰수: 156\n"
          ]
        },
        {
          "output_type": "display_data",
          "data": {
            "image/png": "[encoded data removed]",
            "text/plain": [
              "<Figure size 360x360 with 1 Axes>"
            ]
          },
          "metadata": {
            "needs_background": "light"
          }
        }
      ]
    },
    {
      "cell_type": "code",
      "metadata": {
        "colab": {
          "base_uri": "https://localhost:8080/",
          "height": 142
        },
        "id": "RAxHOsIcje8p",
        "outputId": "96ce2f6c-a3be-4505-ceb5-b5a188cacdf7"
      },
      "source": [
        "pd.DataFrame(Korea['GenderSelect'].value_counts())"
      ],
      "execution_count": null,
      "outputs": [
        {
          "output_type": "execute_result",
          "data": {
            "text/html": [
              "<div>\n",
              "<style scoped>\n",
              "    .dataframe tbody tr th:only-of-type {\n",
              "        vertical-align: middle;\n",
              "    }\n",
              "\n",
              "    .dataframe tbody tr th {\n",
              "        vertical-align: top;\n",
              "    }\n",
              "\n",
              "    .dataframe thead th {\n",
              "        text-align: right;\n",
              "    }\n",
              "</style>\n",
              "<table border=\"1\" class=\"dataframe\">\n",
              "  <thead>\n",
              "    <tr style=\"text-align: right;\">\n",
              "      <th></th>\n",
              "      <th>GenderSelect</th>\n",
              "    </tr>\n",
              "  </thead>\n",
              "  <tbody>\n",
              "    <tr>\n",
              "      <th>Male</th>\n",
              "      <td>156</td>\n",
              "    </tr>\n",
              "    <tr>\n",
              "      <th>Female</th>\n",
              "      <td>37</td>\n",
              "    </tr>\n",
              "    <tr>\n",
              "      <th>A different identity</th>\n",
              "      <td>1</td>\n",
              "    </tr>\n",
              "  </tbody>\n",
              "</table>\n",
              "</div>"
            ],
            "text/plain": [
              "                      GenderSelect\n",
              "Male                           156\n",
              "Female                          37\n",
              "A different identity             1"
            ]
          },
          "metadata": {},
          "execution_count": 126
        }
      ]
    },
    {
      "cell_type": "code",
      "metadata": {
        "colab": {
          "base_uri": "https://localhost:8080/",
          "height": 313
        },
        "id": "hC86i4S2kXi3",
        "outputId": "ca1e665c-7a79-46f5-bd83-4d33f50ad4ac"
      },
      "source": [
        "sns.countplot(x='GenderSelect', data=Korea)\n",
        "plt.title('Korean')"
      ],
      "execution_count": null,
      "outputs": [
        {
          "output_type": "execute_result",
          "data": {
            "text/plain": [
              "Text(0.5, 1.0, 'Korean')"
            ]
          },
          "metadata": {},
          "execution_count": 129
        },
        {
          "output_type": "display_data",
          "data": {
            "image/png": "[encoded data removed]",
            "text/plain": [
              "<Figure size 432x288 with 1 Axes>"
            ]
          },
          "metadata": {
            "needs_background": "light"
          }
        }
      ]
    },
    {
      "cell_type": "code",
      "metadata": {
        "colab": {
          "base_uri": "https://localhost:8080/",
          "height": 368
        },
        "id": "OULldFG4keoo",
        "outputId": "d47a4e4a-ddf4-4bac-ac11-af53e701155d"
      },
      "source": [
        "figure, (ax1, ax2) = plt.subplots(ncols=2)\n",
        "\n",
        "figure.set_size_inches(12,5)\n",
        "sns.distplot(Korea['Age'].loc[Korea['GenderSelect']=='Female'].dropna(), \n",
        "             norm_hist=False, color=sns.color_palette(\"Paired\")[4], ax=ax1)\n",
        "plt.title('korean Female')\n",
        "\n",
        "sns.distplot(Korea['Age'].loc[Korea['GenderSelect']=='Male'].dropna(), \n",
        "             norm_hist=False, color=sns.color_palette(\"Paired\")[0], ax=ax2)\n",
        "plt.title('korean Male')"
      ],
      "execution_count": null,
      "outputs": [
        {
          "output_type": "execute_result",
          "data": {
            "text/plain": [
              "Text(0.5, 1.0, 'korean Male')"
            ]
          },
          "metadata": {},
          "execution_count": 155
        },
        {
          "output_type": "display_data",
          "data": {
            "image/png": "[encoded data removed]",
            "text/plain": [
              "<Figure size 864x360 with 2 Axes>"
            ]
          },
          "metadata": {
            "needs_background": "light"
          }
        }
      ]
    },
    {
      "cell_type": "code",
      "metadata": {
        "colab": {
          "base_uri": "https://localhost:8080/",
          "height": 368
        },
        "id": "Oxi7Esx7lND2",
        "outputId": "ee962ae8-7660-49e7-bebd-813486afeedb"
      },
      "source": [
        "figure, (ax1, ax2) = plt.subplots(ncols=2)\n",
        "\n",
        "figure.set_size_inches(12,5)\n",
        "sns.distplot(Korea['Age'].loc[Korea['GenderSelect']=='Female'].dropna(), \n",
        "             norm_hist=False, color=sns.color_palette(\"Paired\")[4], ax=ax1)\n",
        "plt.title('korean Female')\n",
        "\n",
        "sns.distplot(Korea['Age'].loc[Korea['GenderSelect']=='Male'].dropna(), \n",
        "             norm_hist=False, color=sns.color_palette(\"Paired\")[0], ax=ax2)\n",
        "plt.title('korean Male')"
      ],
      "execution_count": null,
      "outputs": [
        {
          "output_type": "execute_result",
          "data": {
            "text/plain": [
              "Text(0.5, 1.0, 'korean Male')"
            ]
          },
          "metadata": {},
          "execution_count": 154
        },
        {
          "output_type": "display_data",
          "data": {
            "image/png": "[encoded data removed]",
            "text/plain": [
              "<Figure size 864x360 with 2 Axes>"
            ]
          },
          "metadata": {
            "needs_background": "light"
          }
        }
      ]
    },
    {
      "cell_type": "code",
      "metadata": {
        "colab": {
          "base_uri": "https://localhost:8080/",
          "height": 396
        },
        "id": "Kt0S2KLNm1p4",
        "outputId": "0b383ffc-bb96-4587-ea36-0e7b1c7e303f"
      },
      "source": [
        "sns.barplot(x=Korea['EmploymentStatus'].unique(), y=Korea['EmploymentStatus'].value_counts()/len(Korea))\n",
        "plt.xticks(rotation=30,ha= 'right')\n",
        "plt.ylabel('')\n",
        "plt.show()\n"
      ],
      "execution_count": null,
      "outputs": [
        {
          "output_type": "display_data",
          "data": {
            "image/png": "[encoded data removed]",
            "text/plain": [
              "<Figure size 432x288 with 1 Axes>"
            ]
          },
          "metadata": {
            "needs_background": "light"
          }
        }
      ]
    },
    {
      "cell_type": "code",
      "metadata": {
        "id": "rLvcWhuCp-Zu"
      },
      "source": [
        ""
      ],
      "execution_count": null,
      "outputs": []
    }
  ]
}