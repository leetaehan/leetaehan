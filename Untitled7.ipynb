{
  "nbformat": 4,
  "nbformat_minor": 0,
  "metadata": {
    "colab": {
      "name": "Untitled7.ipynb",
      "provenance": [],
      "authorship_tag": "ABX9TyNITsuAOWs1t/BaqeMTm3yl",
      "include_colab_link": true
    },
    "kernelspec": {
      "name": "python3",
      "display_name": "Python 3"
    },
    "language_info": {
      "name": "python"
    }
  },
  "cells": [
    {
      "cell_type": "markdown",
      "metadata": {
        "id": "view-in-github",
        "colab_type": "text"
      },
      "source": [
        "<a href=\"https://colab.research.google.com/github/leetaehan/leetaehan/blob/main/Untitled7.ipynb\" target=\"_parent\"><img src=\"https://colab.research.google.com/assets/colab-badge.svg\" alt=\"Open In Colab\"/></a>"
      ]
    },
    {
      "cell_type": "code",
      "metadata": {
        "colab": {
          "base_uri": "https://localhost:8080/",
          "height": 1000
        },
        "id": "4PDkD1Dp09B5",
        "outputId": "3fc465c0-9b75-41d6-be9e-d1ad31773dd3"
      },
      "source": [
        "# 네이버 검색 API예제는 블로그를 비롯 전문자료까지 호출방법이 동일하므로 blog검색만 대표로 예제를 올렸습니다.\n",
        "# 네이버 검색 Open API 예제 - 블로그 검색\n",
        "import os\n",
        "import sys\n",
        "import urllib.request\n",
        "client_id = \"uYy3F6vya4cy_qaa3GAj\"\n",
        "client_secret = \"ykoQOXBlX0\"\n",
        "encText = urllib.parse.quote(\"용인 나들이\")\n",
        "url = \"https://openapi.naver.com/v1/search/blog?query=\" + encText # json 결과\n",
        "# url = \"https://openapi.naver.com/v1/search/blog.xml?query=\" + encText # xml 결과\n",
        "request = urllib.request.Request(url)\n",
        "request.add_header(\"X-Naver-Client-Id\",client_id)\n",
        "request.add_header(\"X-Naver-Client-Secret\",client_secret)\n",
        "response = urllib.request.urlopen(request)\n",
        "rescode = response.getcode()\n",
        "if(rescode==200):\n",
        "    response_body = response.read()\n",
        "    print(response_body.decode('utf-8'))\n",
        "else:\n",
        "    print(\"Error Code:\" + rescode)\n",
        "body = response_body.decode('utf-8')\n",
        "body"
      ],
      "execution_count": 5,
      "outputs": [
        {
          "output_type": "stream",
          "name": "stdout",
          "text": [
            "{\n",
            "\"lastBuildDate\": \"Mon, 22 Nov 2021 18:00:34 +0900\",\n",
            "\"total\": 85071,\n",
            "\"start\": 1,\n",
            "\"display\": 10,\n",
            "\"items\": [\n",
            "{\n",
            "\"title\": \"210829. <b>용인</b> 에버랜드와 수원 화성행궁, 경기도 <b>나들이</b>\",\n",
            "\"link\": \"https:\\/\\/blog.naver.com\\/2570p?Redirect=Log&logNo=222561208553\",\n",
            "\"description\": \"용인-수원 이게 정석 코스더만 (누가?) #에버랜드 #레니패스 #<b>용인나들이</b> #수원나들이 뭐야 수원 이렇게나 좋은 곳이라고 왜 아무도 나에게 안 알려쥼? 연나 수원에서 개개개개객 핫플 그래비티에 와봤심더... \",\n",
            "\"bloggername\": \"코다리야 코달코달해봐\",\n",
            "\"bloggerlink\": \"https://blog.naver.com/2570p\",\n",
            "\"postdate\": \"20211107\"\n",
            "\n",
            "},\n",
            "{\n",
            "\"title\": \"<b>용인</b> 농촌테마파크, 아이와 <b>나들이</b>로 정말 좋아\",\n",
            "\"link\": \"https:\\/\\/blog.naver.com\\/hyelimmmy?Redirect=Log&logNo=222563185401\",\n",
            "\"description\": \"다음번엔 봄에 한번 더 올테다. #용인가볼만한곳 #용인아이와 #농촌체험 #농촌테마파크 #용인농촌테마파크 #용인동물 #<b>용인나들이</b> #경기아이와 #농촌테마파크유모차\",\n",
            "\"bloggername\": \"랄라리육아\",\n",
            "\"bloggerlink\": \"https://blog.naver.com/hyelimmmy\",\n",
            "\"postdate\": \"20211110\"\n",
            "\n",
            "},\n",
            "{\n",
            "\"title\": \"호암미술관 삼만육천지 <b>용인</b> 드라이브 <b>나들이</b> 추천 &lt;야금(冶金)... \",\n",
            "\"link\": \"https:\\/\\/blog.naver.com\\/seonaj?Redirect=Log&logNo=222550508349\",\n",
            "\"description\": \"<b>용인</b> 드라이브 <b>나들이</b> 명소이기도 하고요. 봄에는 벚꽃 <b>나들이</b>를, 가을에는 단풍 구경을. 코로나로 호암미술관이 휴관 중일 때는 호암미술관 매표소까지만 출입이 가능했고, 안쪽 산책로까지는 갈 수가... \",\n",
            "\"bloggername\": \"베이킹그랜드마스터정\",\n",
            "\"bloggerlink\": \"https://blog.naver.com/seonaj\",\n",
            "\"postdate\": \"20211027\"\n",
            "\n",
            "},\n",
            "{\n",
            "\"title\": \"(<b>용인나들이</b>)37개월 아들과 승마체험 프리지언클럽\",\n",
            "\"link\": \"https:\\/\\/blog.naver.com\\/mygirls123?Redirect=Log&logNo=222563541556\",\n",
            "\"description\": \"#<b>용인나들이</b> #분당나들이 #처인구나들이 #말타기 #가족나들이 #승마체험 #포니 #유아승마체험 #어린이승마체험 #어린이말타기 #유아승마 #에버랜드 #용인가볼만한곳 #아이와함께가볼만한곳 #분당가볼만한곳... \",\n",
            "\"bloggername\": \"동글마미♥\",\n",
            "\"bloggerlink\": \"https://blog.naver.com/mygirls123\",\n",
            "\"postdate\": \"20211109\"\n",
            "\n",
            "},\n",
            "{\n",
            "\"title\": \"용인호텔 추천 :: SR디자인호텔, <b>용인 나들이</b>하고 들르기 좋은... \",\n",
            "\"link\": \"https:\\/\\/blog.naver.com\\/712gram?Redirect=Log&logNo=222538854987\",\n",
            "\"description\": \"날도 용인 근처 나들이 갔다가 에버랜드 근처 호텔에서 1박을 했다 바로 #SR디자인호텔 이라는 곳!... 담아봤으니 용인호텔 SR디자인호텔 한 번 보시고 가셔요! 용인호텔 추천 SR디자인호텔 <b>용인나들이</b> 갔다 들른... \",\n",
            "\"bloggername\": \"일상의 기록 ♪\",\n",
            "\"bloggerlink\": \"https://blog.naver.com/712gram\",\n",
            "\"postdate\": \"20211021\"\n",
            "\n",
            "},\n",
            "{\n",
            "\"title\": \"[<b>용인</b>/에버랜드] 날씨 좋은날, <b>나들이</b>, 데이트 장소로도 추천!... \",\n",
            "\"link\": \"https:\\/\\/blog.naver.com\\/smworld1122?Redirect=Log&logNo=222573594354\",\n",
            "\"description\": \"#용인 #용인여행 #용인가볼만한곳 #<b>용인나들이</b> #용인데이트 #에버랜드 #용인에버랜드 #everland #놀이공원 #놀이동산 #처인구 #용인명소 #포곡읍 #경기도가볼만한곳 #경기도나들이 #경기도여행 #여행 #데이트... \",\n",
            "\"bloggername\": \"Love Yourself!\",\n",
            "\"bloggerlink\": \"https://blog.naver.com/smworld1122\",\n",
            "\"postdate\": \"20211120\"\n",
            "\n",
            "},\n",
            "{\n",
            "\"title\": \"아이들과 나들이 대추천.... (경기 <b>용인 나들이</b> 데이트 추천)\",\n",
            "\"link\": \"https:\\/\\/blog.naver.com\\/hoihoi629?Redirect=Log&logNo=222391000469\",\n",
            "\"description\": \"(포스팅 마지막에 평택농업생태원 링크 달아 놓을께요.^^) 그래서 검색 끝에 결정한 이곳!!!바로 <b>용인</b>... 생각보다 너무 만족스러웠던 한국민속촌 <b>나들이</b> 였습니다. 찐2호가 더 크면 하루 날 잡아서 다시... \",\n",
            "\"bloggername\": \"찐이네 신나는 라이프\",\n",
            "\"bloggerlink\": \"https://blog.naver.com/hoihoi629\",\n",
            "\"postdate\": \"20210609\"\n",
            "\n",
            "},\n",
            "{\n",
            "\"title\": \"주말<b>나들이</b> <b>용인</b> 한국민속촌 할인프로모션 저렴하게 놀고오기\",\n",
            "\"link\": \"https:\\/\\/blog.naver.com\\/eunjiinsung?Redirect=Log&logNo=222571389628\",\n",
            "\"description\": \"오랜만에 옛것의 아름다움을 물씬 느끼게 된 <b>용인</b> 한국민속촌 <b>나들이</b>였어요 홈페이지를 통해서 한국민속촌 지도도 다운받을 수 있고 가기전에 미리 눈으로 익혀놓고 가시는 것도 좋을 것 같아서 홈페이지 링크... \",\n",
            "\"bloggername\": \"달콤레몬키친\",\n",
            "\"bloggerlink\": \"https://blog.naver.com/eunjiinsung\",\n",
            "\"postdate\": \"20211118\"\n",
            "\n",
            "},\n",
            "{\n",
            "\"title\": \"<b>용인나들이</b> ; 용인농촌테마파크, 가을가을해~\",\n",
            "\"link\": \"https:\\/\\/blog.naver.com\\/kkorom12?Redirect=Log&logNo=222564894559\",\n",
            "\"description\": \"<b>용인나들이</b>, 용인시민무료, 국화꽃, 팜파스, 핑크뮬리, 원두막, 용인데이트, 가을단풍 21.11.05 저번 여름에 방문하고 만족도가 컸던 용인농촌테마파크 어쩜 이리 '가을' 이란 단어와 찰떡인 곳이 있을까요?!... \",\n",
            "\"bloggername\": \"여왕님은 언제나 신혼여행 중 ♡\",\n",
            "\"bloggerlink\": \"https://blog.naver.com/kkorom12\",\n",
            "\"postdate\": \"20211111\"\n",
            "\n",
            "},\n",
            "{\n",
            "\"title\": \"<b>용인</b>가볼만한곳 한국민속촌 가을단풍 <b>나들이</b> 장소 추천~\",\n",
            "\"link\": \"https:\\/\\/blog.naver.com\\/pscdkstks?Redirect=Log&logNo=222551462191\",\n",
            "\"description\": \"#용인가볼만한곳 #용인가볼만한곳추천 #한국민속촌 #용인한국민속촌 #가을나들이추천 #한국민속촌가을나들이추천 #용인가을단풍나들이추천 #한국민속촌단풍 #<b>용인나들이</b>장소추천 #용인가을단풍장소추천... \",\n",
            "\"bloggername\": \"안산가발(위드위그)헤어스타일을 디자인하다\",\n",
            "\"bloggerlink\": \"https://blog.naver.com/pscdkstks\",\n",
            "\"postdate\": \"20211028\"\n",
            "\n",
            "}\n",
            "]\n",
            "}\n",
            "\n"
          ]
        },
        {
          "output_type": "execute_result",
          "data": {
            "application/vnd.google.colaboratory.intrinsic+json": {
              "type": "string"
            },
            "text/plain": [
              "'{\\n\"lastBuildDate\": \"Mon, 22 Nov 2021 18:00:34 +0900\",\\n\"total\": 85071,\\n\"start\": 1,\\n\"display\": 10,\\n\"items\": [\\n{\\n\"title\": \"210829. <b>용인</b> 에버랜드와 수원 화성행궁, 경기도 <b>나들이</b>\",\\n\"link\": \"https:\\\\/\\\\/blog.naver.com\\\\/2570p?Redirect=Log&logNo=222561208553\",\\n\"description\": \"용인-수원 이게 정석 코스더만 (누가?) #에버랜드 #레니패스 #<b>용인나들이</b> #수원나들이 뭐야 수원 이렇게나 좋은 곳이라고 왜 아무도 나에게 안 알려쥼? 연나 수원에서 개개개개객 핫플 그래비티에 와봤심더... \",\\n\"bloggername\": \"코다리야 코달코달해봐\",\\n\"bloggerlink\": \"https://blog.naver.com/2570p\",\\n\"postdate\": \"20211107\"\\n\\n},\\n{\\n\"title\": \"<b>용인</b> 농촌테마파크, 아이와 <b>나들이</b>로 정말 좋아\",\\n\"link\": \"https:\\\\/\\\\/blog.naver.com\\\\/hyelimmmy?Redirect=Log&logNo=222563185401\",\\n\"description\": \"다음번엔 봄에 한번 더 올테다. #용인가볼만한곳 #용인아이와 #농촌체험 #농촌테마파크 #용인농촌테마파크 #용인동물 #<b>용인나들이</b> #경기아이와 #농촌테마파크유모차\",\\n\"bloggername\": \"랄라리육아\",\\n\"bloggerlink\": \"https://blog.naver.com/hyelimmmy\",\\n\"postdate\": \"20211110\"\\n\\n},\\n{\\n\"title\": \"호암미술관 삼만육천지 <b>용인</b> 드라이브 <b>나들이</b> 추천 &lt;야금(冶金)... \",\\n\"link\": \"https:\\\\/\\\\/blog.naver.com\\\\/seonaj?Redirect=Log&logNo=222550508349\",\\n\"description\": \"<b>용인</b> 드라이브 <b>나들이</b> 명소이기도 하고요. 봄에는 벚꽃 <b>나들이</b>를, 가을에는 단풍 구경을. 코로나로 호암미술관이 휴관 중일 때는 호암미술관 매표소까지만 출입이 가능했고, 안쪽 산책로까지는 갈 수가... \",\\n\"bloggername\": \"베이킹그랜드마스터정\",\\n\"bloggerlink\": \"https://blog.naver.com/seonaj\",\\n\"postdate\": \"20211027\"\\n\\n},\\n{\\n\"title\": \"(<b>용인나들이</b>)37개월 아들과 승마체험 프리지언클럽\",\\n\"link\": \"https:\\\\/\\\\/blog.naver.com\\\\/mygirls123?Redirect=Log&logNo=222563541556\",\\n\"description\": \"#<b>용인나들이</b> #분당나들이 #처인구나들이 #말타기 #가족나들이 #승마체험 #포니 #유아승마체험 #어린이승마체험 #어린이말타기 #유아승마 #에버랜드 #용인가볼만한곳 #아이와함께가볼만한곳 #분당가볼만한곳... \",\\n\"bloggername\": \"동글마미♥\",\\n\"bloggerlink\": \"https://blog.naver.com/mygirls123\",\\n\"postdate\": \"20211109\"\\n\\n},\\n{\\n\"title\": \"용인호텔 추천 :: SR디자인호텔, <b>용인 나들이</b>하고 들르기 좋은... \",\\n\"link\": \"https:\\\\/\\\\/blog.naver.com\\\\/712gram?Redirect=Log&logNo=222538854987\",\\n\"description\": \"날도 용인 근처 나들이 갔다가 에버랜드 근처 호텔에서 1박을 했다 바로 #SR디자인호텔 이라는 곳!... 담아봤으니 용인호텔 SR디자인호텔 한 번 보시고 가셔요! 용인호텔 추천 SR디자인호텔 <b>용인나들이</b> 갔다 들른... \",\\n\"bloggername\": \"일상의 기록 ♪\",\\n\"bloggerlink\": \"https://blog.naver.com/712gram\",\\n\"postdate\": \"20211021\"\\n\\n},\\n{\\n\"title\": \"[<b>용인</b>/에버랜드] 날씨 좋은날, <b>나들이</b>, 데이트 장소로도 추천!... \",\\n\"link\": \"https:\\\\/\\\\/blog.naver.com\\\\/smworld1122?Redirect=Log&logNo=222573594354\",\\n\"description\": \"#용인 #용인여행 #용인가볼만한곳 #<b>용인나들이</b> #용인데이트 #에버랜드 #용인에버랜드 #everland #놀이공원 #놀이동산 #처인구 #용인명소 #포곡읍 #경기도가볼만한곳 #경기도나들이 #경기도여행 #여행 #데이트... \",\\n\"bloggername\": \"Love Yourself!\",\\n\"bloggerlink\": \"https://blog.naver.com/smworld1122\",\\n\"postdate\": \"20211120\"\\n\\n},\\n{\\n\"title\": \"아이들과 나들이 대추천.... (경기 <b>용인 나들이</b> 데이트 추천)\",\\n\"link\": \"https:\\\\/\\\\/blog.naver.com\\\\/hoihoi629?Redirect=Log&logNo=222391000469\",\\n\"description\": \"(포스팅 마지막에 평택농업생태원 링크 달아 놓을께요.^^) 그래서 검색 끝에 결정한 이곳!!!바로 <b>용인</b>... 생각보다 너무 만족스러웠던 한국민속촌 <b>나들이</b> 였습니다. 찐2호가 더 크면 하루 날 잡아서 다시... \",\\n\"bloggername\": \"찐이네 신나는 라이프\",\\n\"bloggerlink\": \"https://blog.naver.com/hoihoi629\",\\n\"postdate\": \"20210609\"\\n\\n},\\n{\\n\"title\": \"주말<b>나들이</b> <b>용인</b> 한국민속촌 할인프로모션 저렴하게 놀고오기\",\\n\"link\": \"https:\\\\/\\\\/blog.naver.com\\\\/eunjiinsung?Redirect=Log&logNo=222571389628\",\\n\"description\": \"오랜만에 옛것의 아름다움을 물씬 느끼게 된 <b>용인</b> 한국민속촌 <b>나들이</b>였어요 홈페이지를 통해서 한국민속촌 지도도 다운받을 수 있고 가기전에 미리 눈으로 익혀놓고 가시는 것도 좋을 것 같아서 홈페이지 링크... \",\\n\"bloggername\": \"달콤레몬키친\",\\n\"bloggerlink\": \"https://blog.naver.com/eunjiinsung\",\\n\"postdate\": \"20211118\"\\n\\n},\\n{\\n\"title\": \"<b>용인나들이</b> ; 용인농촌테마파크, 가을가을해~\",\\n\"link\": \"https:\\\\/\\\\/blog.naver.com\\\\/kkorom12?Redirect=Log&logNo=222564894559\",\\n\"description\": \"<b>용인나들이</b>, 용인시민무료, 국화꽃, 팜파스, 핑크뮬리, 원두막, 용인데이트, 가을단풍 21.11.05 저번 여름에 방문하고 만족도가 컸던 용인농촌테마파크 어쩜 이리 \\'가을\\' 이란 단어와 찰떡인 곳이 있을까요?!... \",\\n\"bloggername\": \"여왕님은 언제나 신혼여행 중 ♡\",\\n\"bloggerlink\": \"https://blog.naver.com/kkorom12\",\\n\"postdate\": \"20211111\"\\n\\n},\\n{\\n\"title\": \"<b>용인</b>가볼만한곳 한국민속촌 가을단풍 <b>나들이</b> 장소 추천~\",\\n\"link\": \"https:\\\\/\\\\/blog.naver.com\\\\/pscdkstks?Redirect=Log&logNo=222551462191\",\\n\"description\": \"#용인가볼만한곳 #용인가볼만한곳추천 #한국민속촌 #용인한국민속촌 #가을나들이추천 #한국민속촌가을나들이추천 #용인가을단풍나들이추천 #한국민속촌단풍 #<b>용인나들이</b>장소추천 #용인가을단풍장소추천... \",\\n\"bloggername\": \"안산가발(위드위그)헤어스타일을 디자인하다\",\\n\"bloggerlink\": \"https://blog.naver.com/pscdkstks\",\\n\"postdate\": \"20211028\"\\n\\n}\\n]\\n}\\n'"
            ]
          },
          "metadata": {},
          "execution_count": 5
        }
      ]
    },
    {
      "cell_type": "code",
      "metadata": {
        "colab": {
          "base_uri": "https://localhost:8080/",
          "height": 126
        },
        "id": "u-1q98kj3u4f",
        "outputId": "70d1c1ef-4e51-41aa-d8f1-aa3edc2f8c66"
      },
      "source": [
        "body = body.replace('\"','')\n",
        "body"
      ],
      "execution_count": 9,
      "outputs": [
        {
          "output_type": "execute_result",
          "data": {
            "application/vnd.google.colaboratory.intrinsic+json": {
              "type": "string"
            },
            "text/plain": [
              "\"{\\nlastBuildDate: Mon, 22 Nov 2021 18:00:34 +0900,\\ntotal: 85071,\\nstart: 1,\\ndisplay: 10,\\nitems: [\\n{\\ntitle: 210829. <b>용인</b> 에버랜드와 수원 화성행궁, 경기도 <b>나들이</b>,\\nlink: https:\\\\/\\\\/blog.naver.com\\\\/2570p?Redirect=Log&logNo=222561208553,\\ndescription: 용인-수원 이게 정석 코스더만 (누가?) #에버랜드 #레니패스 #<b>용인나들이</b> #수원나들이 뭐야 수원 이렇게나 좋은 곳이라고 왜 아무도 나에게 안 알려쥼? 연나 수원에서 개개개개객 핫플 그래비티에 와봤심더... ,\\nbloggername: 코다리야 코달코달해봐,\\nbloggerlink: https://blog.naver.com/2570p,\\npostdate: 20211107\\n\\n},\\n{\\ntitle: <b>용인</b> 농촌테마파크, 아이와 <b>나들이</b>로 정말 좋아,\\nlink: https:\\\\/\\\\/blog.naver.com\\\\/hyelimmmy?Redirect=Log&logNo=222563185401,\\ndescription: 다음번엔 봄에 한번 더 올테다. #용인가볼만한곳 #용인아이와 #농촌체험 #농촌테마파크 #용인농촌테마파크 #용인동물 #<b>용인나들이</b> #경기아이와 #농촌테마파크유모차,\\nbloggername: 랄라리육아,\\nbloggerlink: https://blog.naver.com/hyelimmmy,\\npostdate: 20211110\\n\\n},\\n{\\ntitle: 호암미술관 삼만육천지 <b>용인</b> 드라이브 <b>나들이</b> 추천 &lt;야금(冶金)... ,\\nlink: https:\\\\/\\\\/blog.naver.com\\\\/seonaj?Redirect=Log&logNo=222550508349,\\ndescription: <b>용인</b> 드라이브 <b>나들이</b> 명소이기도 하고요. 봄에는 벚꽃 <b>나들이</b>를, 가을에는 단풍 구경을. 코로나로 호암미술관이 휴관 중일 때는 호암미술관 매표소까지만 출입이 가능했고, 안쪽 산책로까지는 갈 수가... ,\\nbloggername: 베이킹그랜드마스터정,\\nbloggerlink: https://blog.naver.com/seonaj,\\npostdate: 20211027\\n\\n},\\n{\\ntitle: (<b>용인나들이</b>)37개월 아들과 승마체험 프리지언클럽,\\nlink: https:\\\\/\\\\/blog.naver.com\\\\/mygirls123?Redirect=Log&logNo=222563541556,\\ndescription: #<b>용인나들이</b> #분당나들이 #처인구나들이 #말타기 #가족나들이 #승마체험 #포니 #유아승마체험 #어린이승마체험 #어린이말타기 #유아승마 #에버랜드 #용인가볼만한곳 #아이와함께가볼만한곳 #분당가볼만한곳... ,\\nbloggername: 동글마미♥,\\nbloggerlink: https://blog.naver.com/mygirls123,\\npostdate: 20211109\\n\\n},\\n{\\ntitle: 용인호텔 추천 :: SR디자인호텔, <b>용인 나들이</b>하고 들르기 좋은... ,\\nlink: https:\\\\/\\\\/blog.naver.com\\\\/712gram?Redirect=Log&logNo=222538854987,\\ndescription: 날도 용인 근처 나들이 갔다가 에버랜드 근처 호텔에서 1박을 했다 바로 #SR디자인호텔 이라는 곳!... 담아봤으니 용인호텔 SR디자인호텔 한 번 보시고 가셔요! 용인호텔 추천 SR디자인호텔 <b>용인나들이</b> 갔다 들른... ,\\nbloggername: 일상의 기록 ♪,\\nbloggerlink: https://blog.naver.com/712gram,\\npostdate: 20211021\\n\\n},\\n{\\ntitle: [<b>용인</b>/에버랜드] 날씨 좋은날, <b>나들이</b>, 데이트 장소로도 추천!... ,\\nlink: https:\\\\/\\\\/blog.naver.com\\\\/smworld1122?Redirect=Log&logNo=222573594354,\\ndescription: #용인 #용인여행 #용인가볼만한곳 #<b>용인나들이</b> #용인데이트 #에버랜드 #용인에버랜드 #everland #놀이공원 #놀이동산 #처인구 #용인명소 #포곡읍 #경기도가볼만한곳 #경기도나들이 #경기도여행 #여행 #데이트... ,\\nbloggername: Love Yourself!,\\nbloggerlink: https://blog.naver.com/smworld1122,\\npostdate: 20211120\\n\\n},\\n{\\ntitle: 아이들과 나들이 대추천.... (경기 <b>용인 나들이</b> 데이트 추천),\\nlink: https:\\\\/\\\\/blog.naver.com\\\\/hoihoi629?Redirect=Log&logNo=222391000469,\\ndescription: (포스팅 마지막에 평택농업생태원 링크 달아 놓을께요.^^) 그래서 검색 끝에 결정한 이곳!!!바로 <b>용인</b>... 생각보다 너무 만족스러웠던 한국민속촌 <b>나들이</b> 였습니다. 찐2호가 더 크면 하루 날 잡아서 다시... ,\\nbloggername: 찐이네 신나는 라이프,\\nbloggerlink: https://blog.naver.com/hoihoi629,\\npostdate: 20210609\\n\\n},\\n{\\ntitle: 주말<b>나들이</b> <b>용인</b> 한국민속촌 할인프로모션 저렴하게 놀고오기,\\nlink: https:\\\\/\\\\/blog.naver.com\\\\/eunjiinsung?Redirect=Log&logNo=222571389628,\\ndescription: 오랜만에 옛것의 아름다움을 물씬 느끼게 된 <b>용인</b> 한국민속촌 <b>나들이</b>였어요 홈페이지를 통해서 한국민속촌 지도도 다운받을 수 있고 가기전에 미리 눈으로 익혀놓고 가시는 것도 좋을 것 같아서 홈페이지 링크... ,\\nbloggername: 달콤레몬키친,\\nbloggerlink: https://blog.naver.com/eunjiinsung,\\npostdate: 20211118\\n\\n},\\n{\\ntitle: <b>용인나들이</b> ; 용인농촌테마파크, 가을가을해~,\\nlink: https:\\\\/\\\\/blog.naver.com\\\\/kkorom12?Redirect=Log&logNo=222564894559,\\ndescription: <b>용인나들이</b>, 용인시민무료, 국화꽃, 팜파스, 핑크뮬리, 원두막, 용인데이트, 가을단풍 21.11.05 저번 여름에 방문하고 만족도가 컸던 용인농촌테마파크 어쩜 이리 '가을' 이란 단어와 찰떡인 곳이 있을까요?!... ,\\nbloggername: 여왕님은 언제나 신혼여행 중 ♡,\\nbloggerlink: https://blog.naver.com/kkorom12,\\npostdate: 20211111\\n\\n},\\n{\\ntitle: <b>용인</b>가볼만한곳 한국민속촌 가을단풍 <b>나들이</b> 장소 추천~,\\nlink: https:\\\\/\\\\/blog.naver.com\\\\/pscdkstks?Redirect=Log&logNo=222551462191,\\ndescription: #용인가볼만한곳 #용인가볼만한곳추천 #한국민속촌 #용인한국민속촌 #가을나들이추천 #한국민속촌가을나들이추천 #용인가을단풍나들이추천 #한국민속촌단풍 #<b>용인나들이</b>장소추천 #용인가을단풍장소추천... ,\\nbloggername: 안산가발(위드위그)헤어스타일을 디자인하다,\\nbloggerlink: https://blog.naver.com/pscdkstks,\\npostdate: 20211028\\n\\n}\\n]\\n}\\n\""
            ]
          },
          "metadata": {},
          "execution_count": 9
        }
      ]
    },
    {
      "cell_type": "code",
      "metadata": {
        "colab": {
          "base_uri": "https://localhost:8080/"
        },
        "id": "U-9zu23d4RzI",
        "outputId": "ef4ea196-afe4-4bfd-f632-3d22c5f7bfd9"
      },
      "source": [
        "import re\n",
        "titles = re.findall('title: (.*?),\\nlink',body)\n",
        "print('<<제목 모음>>')\n",
        "print(titles)\n",
        "print('총 제목 수: ',len(titles),'개')"
      ],
      "execution_count": 12,
      "outputs": [
        {
          "output_type": "stream",
          "name": "stdout",
          "text": [
            "<<제목 모음>>\n",
            "['210829. <b>용인</b> 에버랜드와 수원 화성행궁, 경기도 <b>나들이</b>', '<b>용인</b> 농촌테마파크, 아이와 <b>나들이</b>로 정말 좋아', '호암미술관 삼만육천지 <b>용인</b> 드라이브 <b>나들이</b> 추천 &lt;야금(冶金)... ', '(<b>용인나들이</b>)37개월 아들과 승마체험 프리지언클럽', '용인호텔 추천 :: SR디자인호텔, <b>용인 나들이</b>하고 들르기 좋은... ', '[<b>용인</b>/에버랜드] 날씨 좋은날, <b>나들이</b>, 데이트 장소로도 추천!... ', '아이들과 나들이 대추천.... (경기 <b>용인 나들이</b> 데이트 추천)', '주말<b>나들이</b> <b>용인</b> 한국민속촌 할인프로모션 저렴하게 놀고오기', '<b>용인나들이</b> ; 용인농촌테마파크, 가을가을해~', '<b>용인</b>가볼만한곳 한국민속촌 가을단풍 <b>나들이</b> 장소 추천~']\n",
            "총 제목 수:  10 개\n"
          ]
        }
      ]
    },
    {
      "cell_type": "code",
      "metadata": {
        "colab": {
          "base_uri": "https://localhost:8080/"
        },
        "id": "_Z737v6A4-X-",
        "outputId": "da7559e8-13c6-48c6-8c0f-fba6594b9793"
      },
      "source": [
        "links = re.findall('link: (.*?),\\ndescription',body)\n",
        "print('<<링크 모음>>')\n",
        "print(links)\n",
        "print('총 링크 수: ',len(links),'개')"
      ],
      "execution_count": 13,
      "outputs": [
        {
          "output_type": "stream",
          "name": "stdout",
          "text": [
            "<<링크 모음>>\n",
            "['https:\\\\/\\\\/blog.naver.com\\\\/2570p?Redirect=Log&logNo=222561208553', 'https:\\\\/\\\\/blog.naver.com\\\\/hyelimmmy?Redirect=Log&logNo=222563185401', 'https:\\\\/\\\\/blog.naver.com\\\\/seonaj?Redirect=Log&logNo=222550508349', 'https:\\\\/\\\\/blog.naver.com\\\\/mygirls123?Redirect=Log&logNo=222563541556', 'https:\\\\/\\\\/blog.naver.com\\\\/712gram?Redirect=Log&logNo=222538854987', 'https:\\\\/\\\\/blog.naver.com\\\\/smworld1122?Redirect=Log&logNo=222573594354', 'https:\\\\/\\\\/blog.naver.com\\\\/hoihoi629?Redirect=Log&logNo=222391000469', 'https:\\\\/\\\\/blog.naver.com\\\\/eunjiinsung?Redirect=Log&logNo=222571389628', 'https:\\\\/\\\\/blog.naver.com\\\\/kkorom12?Redirect=Log&logNo=222564894559', 'https:\\\\/\\\\/blog.naver.com\\\\/pscdkstks?Redirect=Log&logNo=222551462191']\n",
            "총 링크 수:  10 개\n"
          ]
        }
      ]
    },
    {
      "cell_type": "code",
      "metadata": {
        "colab": {
          "base_uri": "https://localhost:8080/"
        },
        "id": "eVohRs7o5Ob4",
        "outputId": "b3445502-515b-4d3c-cdef-26ea234e04be"
      },
      "source": [
        "blog_links = []\n",
        "for i in links:\n",
        "  a = i.replace('\\\\',\"\")\n",
        "  b = a.replace('?Redirect=Log&logNo=','/')\n",
        "  blog_links.append(b)\n",
        "\n",
        "print(blog_links)\n",
        "print('생성된 링크 갯수:',len(blog_links),'개')"
      ],
      "execution_count": 15,
      "outputs": [
        {
          "output_type": "stream",
          "name": "stdout",
          "text": [
            "['https://blog.naver.com/2570p/222561208553', 'https://blog.naver.com/hyelimmmy/222563185401', 'https://blog.naver.com/seonaj/222550508349', 'https://blog.naver.com/mygirls123/222563541556', 'https://blog.naver.com/712gram/222538854987', 'https://blog.naver.com/smworld1122/222573594354', 'https://blog.naver.com/hoihoi629/222391000469', 'https://blog.naver.com/eunjiinsung/222571389628', 'https://blog.naver.com/kkorom12/222564894559', 'https://blog.naver.com/pscdkstks/222551462191']\n",
            "생성된 링크 갯수: 10 개\n"
          ]
        }
      ]
    },
    {
      "cell_type": "code",
      "metadata": {
        "colab": {
          "base_uri": "https://localhost:8080/"
        },
        "id": "bAQmwe_Q6T_Q",
        "outputId": "9b2a8f39-0e22-4b67-a759-374ae5f0d7c6"
      },
      "source": [
        "!pip install selenium\n",
        "!apt-get update\n",
        "!apt install chromium-chromedriver\n",
        "import time\n",
        "from selenium import webdriver\n",
        "from bs4 import BeautifulSoup\n",
        "\n",
        "chrome_options = webdriver.ChromeOptions()\n",
        "chrome_options.add_argument('--headless')\n",
        "chrome_options.add_argument('--no-sandbox')\n",
        "chrome_options.add_argument('--disable-dev-shm-usage')\n",
        "driver = webdriver.Chrome('chromedriver', chrome_options=chrome_options)\n",
        "\n",
        "driver.implicitly_wait(3)\n"
      ],
      "execution_count": 21,
      "outputs": [
        {
          "output_type": "stream",
          "name": "stdout",
          "text": [
            "Requirement already satisfied: selenium in /usr/local/lib/python3.7/dist-packages (4.0.0)\n",
            "Requirement already satisfied: urllib3[secure]~=1.26 in /usr/local/lib/python3.7/dist-packages (from selenium) (1.26.7)\n",
            "Requirement already satisfied: trio-websocket~=0.9 in /usr/local/lib/python3.7/dist-packages (from selenium) (0.9.2)\n",
            "Requirement already satisfied: trio~=0.17 in /usr/local/lib/python3.7/dist-packages (from selenium) (0.19.0)\n",
            "Requirement already satisfied: async-generator>=1.9 in /usr/local/lib/python3.7/dist-packages (from trio~=0.17->selenium) (1.10)\n",
            "Requirement already satisfied: attrs>=19.2.0 in /usr/local/lib/python3.7/dist-packages (from trio~=0.17->selenium) (21.2.0)\n",
            "Requirement already satisfied: outcome in /usr/local/lib/python3.7/dist-packages (from trio~=0.17->selenium) (1.1.0)\n",
            "Requirement already satisfied: idna in /usr/local/lib/python3.7/dist-packages (from trio~=0.17->selenium) (2.10)\n",
            "Requirement already satisfied: sortedcontainers in /usr/local/lib/python3.7/dist-packages (from trio~=0.17->selenium) (2.4.0)\n",
            "Requirement already satisfied: sniffio in /usr/local/lib/python3.7/dist-packages (from trio~=0.17->selenium) (1.2.0)\n",
            "Requirement already satisfied: wsproto>=0.14 in /usr/local/lib/python3.7/dist-packages (from trio-websocket~=0.9->selenium) (1.0.0)\n",
            "Requirement already satisfied: cryptography>=1.3.4 in /usr/local/lib/python3.7/dist-packages (from urllib3[secure]~=1.26->selenium) (36.0.0)\n",
            "Requirement already satisfied: pyOpenSSL>=0.14 in /usr/local/lib/python3.7/dist-packages (from urllib3[secure]~=1.26->selenium) (21.0.0)\n",
            "Requirement already satisfied: certifi in /usr/local/lib/python3.7/dist-packages (from urllib3[secure]~=1.26->selenium) (2021.10.8)\n",
            "Requirement already satisfied: cffi>=1.12 in /usr/local/lib/python3.7/dist-packages (from cryptography>=1.3.4->urllib3[secure]~=1.26->selenium) (1.15.0)\n",
            "Requirement already satisfied: pycparser in /usr/local/lib/python3.7/dist-packages (from cffi>=1.12->cryptography>=1.3.4->urllib3[secure]~=1.26->selenium) (2.21)\n",
            "Requirement already satisfied: six>=1.5.2 in /usr/local/lib/python3.7/dist-packages (from pyOpenSSL>=0.14->urllib3[secure]~=1.26->selenium) (1.15.0)\n",
            "Requirement already satisfied: h11<1,>=0.9.0 in /usr/local/lib/python3.7/dist-packages (from wsproto>=0.14->trio-websocket~=0.9->selenium) (0.12.0)\n",
            "Hit:1 https://cloud.r-project.org/bin/linux/ubuntu bionic-cran40/ InRelease\n",
            "Ign:2 https://developer.download.nvidia.com/compute/cuda/repos/ubuntu1804/x86_64  InRelease\n",
            "Hit:3 http://security.ubuntu.com/ubuntu bionic-security InRelease\n",
            "Hit:4 http://ppa.launchpad.net/c2d4u.team/c2d4u4.0+/ubuntu bionic InRelease\n",
            "Hit:5 http://archive.ubuntu.com/ubuntu bionic InRelease\n",
            "Ign:6 https://developer.download.nvidia.com/compute/machine-learning/repos/ubuntu1804/x86_64  InRelease\n",
            "Hit:7 https://developer.download.nvidia.com/compute/cuda/repos/ubuntu1804/x86_64  Release\n",
            "Hit:8 https://developer.download.nvidia.com/compute/machine-learning/repos/ubuntu1804/x86_64  Release\n",
            "Hit:9 http://archive.ubuntu.com/ubuntu bionic-updates InRelease\n",
            "Hit:10 http://ppa.launchpad.net/cran/libgit2/ubuntu bionic InRelease\n",
            "Hit:11 http://archive.ubuntu.com/ubuntu bionic-backports InRelease\n",
            "Hit:12 http://ppa.launchpad.net/deadsnakes/ppa/ubuntu bionic InRelease\n",
            "Hit:13 http://ppa.launchpad.net/graphics-drivers/ppa/ubuntu bionic InRelease\n",
            "Reading package lists... Done\n",
            "Reading package lists... Done\n",
            "Building dependency tree       \n",
            "Reading state information... Done\n",
            "chromium-chromedriver is already the newest version (95.0.4638.69-0ubuntu0.18.04.1).\n",
            "0 upgraded, 0 newly installed, 0 to remove and 37 not upgraded.\n"
          ]
        },
        {
          "output_type": "stream",
          "name": "stderr",
          "text": [
            "/usr/local/lib/python3.7/dist-packages/ipykernel_launcher.py:12: DeprecationWarning: use options instead of chrome_options\n",
            "  if sys.path[0] == '':\n"
          ]
        }
      ]
    },
    {
      "cell_type": "code",
      "metadata": {
        "colab": {
          "base_uri": "https://localhost:8080/",
          "height": 562
        },
        "id": "0GWD0xqz6nm3",
        "outputId": "d4f176cd-6bf0-499a-e2f4-87d158edc01a"
      },
      "source": [
        "contents = []\n",
        "for i in blog_links:\n",
        "  driver.get(i)\n",
        "  time.sleep(1)\n",
        "  driver.switch_to.frame('mainFrame')\n",
        "  a = driver.find_element_by_css_selector('div.se-main-container').text\n",
        "  contents.append(a)\n",
        "\n",
        "\n",
        "\n",
        "  driver.quit()\n",
        "  print(\"<<본문 크롤링이 완료되었습니다.>>\")\n",
        "  contents"
      ],
      "execution_count": 24,
      "outputs": [
        {
          "output_type": "error",
          "ename": "MaxRetryError",
          "evalue": "ignored",
          "traceback": [
            "\u001b[0;31m---------------------------------------------------------------------------\u001b[0m",
            "\u001b[0;31mConnectionRefusedError\u001b[0m                    Traceback (most recent call last)",
            "\u001b[0;32m/usr/local/lib/python3.7/dist-packages/urllib3/connection.py\u001b[0m in \u001b[0;36m_new_conn\u001b[0;34m(self)\u001b[0m\n\u001b[1;32m    158\u001b[0m         \"\"\"\n\u001b[0;32m--> 159\u001b[0;31m         \u001b[0mself\u001b[0m\u001b[0;34m.\u001b[0m\u001b[0m_dns_host\u001b[0m \u001b[0;34m=\u001b[0m \u001b[0mvalue\u001b[0m\u001b[0;34m\u001b[0m\u001b[0;34m\u001b[0m\u001b[0m\n\u001b[0m\u001b[1;32m    160\u001b[0m \u001b[0;34m\u001b[0m\u001b[0m\n",
            "\u001b[0;32m/usr/local/lib/python3.7/dist-packages/urllib3/util/connection.py\u001b[0m in \u001b[0;36mcreate_connection\u001b[0;34m(address, timeout, source_address, socket_options)\u001b[0m\n\u001b[1;32m     79\u001b[0m             \u001b[0;31m# If provided, set socket level options before connecting.\u001b[0m\u001b[0;34m\u001b[0m\u001b[0;34m\u001b[0m\u001b[0;34m\u001b[0m\u001b[0m\n\u001b[0;32m---> 80\u001b[0;31m             \u001b[0m_set_socket_options\u001b[0m\u001b[0;34m(\u001b[0m\u001b[0msock\u001b[0m\u001b[0;34m,\u001b[0m \u001b[0msocket_options\u001b[0m\u001b[0;34m)\u001b[0m\u001b[0;34m\u001b[0m\u001b[0;34m\u001b[0m\u001b[0m\n\u001b[0m\u001b[1;32m     81\u001b[0m \u001b[0;34m\u001b[0m\u001b[0m\n",
            "\u001b[0;32m/usr/local/lib/python3.7/dist-packages/urllib3/util/connection.py\u001b[0m in \u001b[0;36mcreate_connection\u001b[0;34m(address, timeout, source_address, socket_options)\u001b[0m\n\u001b[1;32m     69\u001b[0m         return six.raise_from(\n\u001b[0;32m---> 70\u001b[0;31m             \u001b[0mLocationParseError\u001b[0m\u001b[0;34m(\u001b[0m\u001b[0;34mu\"'%s', label empty or too long\"\u001b[0m \u001b[0;34m%\u001b[0m \u001b[0mhost\u001b[0m\u001b[0;34m)\u001b[0m\u001b[0;34m,\u001b[0m \u001b[0;32mNone\u001b[0m\u001b[0;34m\u001b[0m\u001b[0;34m\u001b[0m\u001b[0m\n\u001b[0m\u001b[1;32m     71\u001b[0m         )\n",
            "\u001b[0;31mConnectionRefusedError\u001b[0m: [Errno 111] Connection refused",
            "\nDuring handling of the above exception, another exception occurred:\n",
            "\u001b[0;31mNewConnectionError\u001b[0m                        Traceback (most recent call last)",
            "\u001b[0;32m/usr/local/lib/python3.7/dist-packages/urllib3/connectionpool.py\u001b[0m in \u001b[0;36murlopen\u001b[0;34m(self, method, url, body, headers, retries, redirect, assert_same_host, timeout, pool_timeout, release_conn, chunked, body_pos, **response_kw)\u001b[0m\n\u001b[1;32m    599\u001b[0m             \u001b[0mblock\u001b[0m \u001b[0;32mfor\u001b[0m\u001b[0;31m \u001b[0m\u001b[0;31m`\u001b[0m\u001b[0;31m`\u001b[0m\u001b[0mpool_timeout\u001b[0m\u001b[0;31m`\u001b[0m\u001b[0;31m`\u001b[0m \u001b[0mseconds\u001b[0m \u001b[0;32mand\u001b[0m \u001b[0;32mraise\u001b[0m \u001b[0mEmptyPoolError\u001b[0m \u001b[0;32mif\u001b[0m \u001b[0mno\u001b[0m\u001b[0;34m\u001b[0m\u001b[0;34m\u001b[0m\u001b[0m\n\u001b[0;32m--> 600\u001b[0;31m             \u001b[0mconnection\u001b[0m \u001b[0;32mis\u001b[0m \u001b[0mavailable\u001b[0m \u001b[0mwithin\u001b[0m \u001b[0mthe\u001b[0m \u001b[0mtime\u001b[0m \u001b[0mperiod\u001b[0m\u001b[0;34m.\u001b[0m\u001b[0;34m\u001b[0m\u001b[0;34m\u001b[0m\u001b[0m\n\u001b[0m\u001b[1;32m    601\u001b[0m \u001b[0;34m\u001b[0m\u001b[0m\n",
            "\u001b[0;32m/usr/local/lib/python3.7/dist-packages/urllib3/connectionpool.py\u001b[0m in \u001b[0;36m_make_request\u001b[0;34m(self, conn, method, url, timeout, chunked, **httplib_request_kw)\u001b[0m\n\u001b[1;32m    353\u001b[0m             raise ReadTimeoutError(\n\u001b[0;32m--> 354\u001b[0;31m                 \u001b[0mself\u001b[0m\u001b[0;34m,\u001b[0m \u001b[0murl\u001b[0m\u001b[0;34m,\u001b[0m \u001b[0;34m\"Read timed out. (read timeout=%s)\"\u001b[0m \u001b[0;34m%\u001b[0m \u001b[0mtimeout_value\u001b[0m\u001b[0;34m\u001b[0m\u001b[0;34m\u001b[0m\u001b[0m\n\u001b[0m\u001b[1;32m    355\u001b[0m             )\n",
            "\u001b[0;32m/usr/lib/python3.7/http/client.py\u001b[0m in \u001b[0;36mrequest\u001b[0;34m(self, method, url, body, headers, encode_chunked)\u001b[0m\n\u001b[1;32m   1280\u001b[0m         \u001b[0;34m\"\"\"Send a complete request to the server.\"\"\"\u001b[0m\u001b[0;34m\u001b[0m\u001b[0;34m\u001b[0m\u001b[0m\n\u001b[0;32m-> 1281\u001b[0;31m         \u001b[0mself\u001b[0m\u001b[0;34m.\u001b[0m\u001b[0m_send_request\u001b[0m\u001b[0;34m(\u001b[0m\u001b[0mmethod\u001b[0m\u001b[0;34m,\u001b[0m \u001b[0murl\u001b[0m\u001b[0;34m,\u001b[0m \u001b[0mbody\u001b[0m\u001b[0;34m,\u001b[0m \u001b[0mheaders\u001b[0m\u001b[0;34m,\u001b[0m \u001b[0mencode_chunked\u001b[0m\u001b[0;34m)\u001b[0m\u001b[0;34m\u001b[0m\u001b[0;34m\u001b[0m\u001b[0m\n\u001b[0m\u001b[1;32m   1282\u001b[0m \u001b[0;34m\u001b[0m\u001b[0m\n",
            "\u001b[0;32m/usr/lib/python3.7/http/client.py\u001b[0m in \u001b[0;36m_send_request\u001b[0;34m(self, method, url, body, headers, encode_chunked)\u001b[0m\n\u001b[1;32m   1326\u001b[0m             \u001b[0mbody\u001b[0m \u001b[0;34m=\u001b[0m \u001b[0m_encode\u001b[0m\u001b[0;34m(\u001b[0m\u001b[0mbody\u001b[0m\u001b[0;34m,\u001b[0m \u001b[0;34m'body'\u001b[0m\u001b[0;34m)\u001b[0m\u001b[0;34m\u001b[0m\u001b[0;34m\u001b[0m\u001b[0m\n\u001b[0;32m-> 1327\u001b[0;31m         \u001b[0mself\u001b[0m\u001b[0;34m.\u001b[0m\u001b[0mendheaders\u001b[0m\u001b[0;34m(\u001b[0m\u001b[0mbody\u001b[0m\u001b[0;34m,\u001b[0m \u001b[0mencode_chunked\u001b[0m\u001b[0;34m=\u001b[0m\u001b[0mencode_chunked\u001b[0m\u001b[0;34m)\u001b[0m\u001b[0;34m\u001b[0m\u001b[0;34m\u001b[0m\u001b[0m\n\u001b[0m\u001b[1;32m   1328\u001b[0m \u001b[0;34m\u001b[0m\u001b[0m\n",
            "\u001b[0;32m/usr/lib/python3.7/http/client.py\u001b[0m in \u001b[0;36mendheaders\u001b[0;34m(self, message_body, encode_chunked)\u001b[0m\n\u001b[1;32m   1275\u001b[0m             \u001b[0;32mraise\u001b[0m \u001b[0mCannotSendHeader\u001b[0m\u001b[0;34m(\u001b[0m\u001b[0;34m)\u001b[0m\u001b[0;34m\u001b[0m\u001b[0;34m\u001b[0m\u001b[0m\n\u001b[0;32m-> 1276\u001b[0;31m         \u001b[0mself\u001b[0m\u001b[0;34m.\u001b[0m\u001b[0m_send_output\u001b[0m\u001b[0;34m(\u001b[0m\u001b[0mmessage_body\u001b[0m\u001b[0;34m,\u001b[0m \u001b[0mencode_chunked\u001b[0m\u001b[0;34m=\u001b[0m\u001b[0mencode_chunked\u001b[0m\u001b[0;34m)\u001b[0m\u001b[0;34m\u001b[0m\u001b[0;34m\u001b[0m\u001b[0m\n\u001b[0m\u001b[1;32m   1277\u001b[0m \u001b[0;34m\u001b[0m\u001b[0m\n",
            "\u001b[0;32m/usr/lib/python3.7/http/client.py\u001b[0m in \u001b[0;36m_send_output\u001b[0;34m(self, message_body, encode_chunked)\u001b[0m\n\u001b[1;32m   1035\u001b[0m         \u001b[0;32mdel\u001b[0m \u001b[0mself\u001b[0m\u001b[0;34m.\u001b[0m\u001b[0m_buffer\u001b[0m\u001b[0;34m[\u001b[0m\u001b[0;34m:\u001b[0m\u001b[0;34m]\u001b[0m\u001b[0;34m\u001b[0m\u001b[0;34m\u001b[0m\u001b[0m\n\u001b[0;32m-> 1036\u001b[0;31m         \u001b[0mself\u001b[0m\u001b[0;34m.\u001b[0m\u001b[0msend\u001b[0m\u001b[0;34m(\u001b[0m\u001b[0mmsg\u001b[0m\u001b[0;34m)\u001b[0m\u001b[0;34m\u001b[0m\u001b[0;34m\u001b[0m\u001b[0m\n\u001b[0m\u001b[1;32m   1037\u001b[0m \u001b[0;34m\u001b[0m\u001b[0m\n",
            "\u001b[0;32m/usr/lib/python3.7/http/client.py\u001b[0m in \u001b[0;36msend\u001b[0;34m(self, data)\u001b[0m\n\u001b[1;32m    975\u001b[0m             \u001b[0;32mif\u001b[0m \u001b[0mself\u001b[0m\u001b[0;34m.\u001b[0m\u001b[0mauto_open\u001b[0m\u001b[0;34m:\u001b[0m\u001b[0;34m\u001b[0m\u001b[0;34m\u001b[0m\u001b[0m\n\u001b[0;32m--> 976\u001b[0;31m                 \u001b[0mself\u001b[0m\u001b[0;34m.\u001b[0m\u001b[0mconnect\u001b[0m\u001b[0;34m(\u001b[0m\u001b[0;34m)\u001b[0m\u001b[0;34m\u001b[0m\u001b[0;34m\u001b[0m\u001b[0m\n\u001b[0m\u001b[1;32m    977\u001b[0m             \u001b[0;32melse\u001b[0m\u001b[0;34m:\u001b[0m\u001b[0;34m\u001b[0m\u001b[0;34m\u001b[0m\u001b[0m\n",
            "\u001b[0;32m/usr/local/lib/python3.7/dist-packages/urllib3/connection.py\u001b[0m in \u001b[0;36mconnect\u001b[0;34m(self)\u001b[0m\n\u001b[1;32m    180\u001b[0m                 \u001b[0mself\u001b[0m\u001b[0;34m,\u001b[0m\u001b[0;34m\u001b[0m\u001b[0;34m\u001b[0m\u001b[0m\n\u001b[0;32m--> 181\u001b[0;31m                 \u001b[0;34m\"Connection to %s timed out. (connect timeout=%s)\"\u001b[0m\u001b[0;34m\u001b[0m\u001b[0;34m\u001b[0m\u001b[0m\n\u001b[0m\u001b[1;32m    182\u001b[0m                 \u001b[0;34m%\u001b[0m \u001b[0;34m(\u001b[0m\u001b[0mself\u001b[0m\u001b[0;34m.\u001b[0m\u001b[0mhost\u001b[0m\u001b[0;34m,\u001b[0m \u001b[0mself\u001b[0m\u001b[0;34m.\u001b[0m\u001b[0mtimeout\u001b[0m\u001b[0;34m)\u001b[0m\u001b[0;34m,\u001b[0m\u001b[0;34m\u001b[0m\u001b[0;34m\u001b[0m\u001b[0m\n",
            "\u001b[0;32m/usr/local/lib/python3.7/dist-packages/urllib3/connection.py\u001b[0m in \u001b[0;36m_new_conn\u001b[0;34m(self)\u001b[0m\n\u001b[1;32m    167\u001b[0m         \u001b[0;32mif\u001b[0m \u001b[0mself\u001b[0m\u001b[0;34m.\u001b[0m\u001b[0msource_address\u001b[0m\u001b[0;34m:\u001b[0m\u001b[0;34m\u001b[0m\u001b[0;34m\u001b[0m\u001b[0m\n\u001b[0;32m--> 168\u001b[0;31m             \u001b[0mextra_kw\u001b[0m\u001b[0;34m[\u001b[0m\u001b[0;34m\"source_address\"\u001b[0m\u001b[0;34m]\u001b[0m \u001b[0;34m=\u001b[0m \u001b[0mself\u001b[0m\u001b[0;34m.\u001b[0m\u001b[0msource_address\u001b[0m\u001b[0;34m\u001b[0m\u001b[0;34m\u001b[0m\u001b[0m\n\u001b[0m\u001b[1;32m    169\u001b[0m \u001b[0;34m\u001b[0m\u001b[0m\n",
            "\u001b[0;31mNewConnectionError\u001b[0m: <urllib3.connection.HTTPConnection object at 0x7f5cfe5dcad0>: Failed to establish a new connection: [Errno 111] Connection refused",
            "\nDuring handling of the above exception, another exception occurred:\n",
            "\u001b[0;31mMaxRetryError\u001b[0m                             Traceback (most recent call last)",
            "\u001b[0;32m<ipython-input-24-faeee2d933ec>\u001b[0m in \u001b[0;36m<module>\u001b[0;34m()\u001b[0m\n\u001b[1;32m      1\u001b[0m \u001b[0mcontents\u001b[0m \u001b[0;34m=\u001b[0m \u001b[0;34m[\u001b[0m\u001b[0;34m]\u001b[0m\u001b[0;34m\u001b[0m\u001b[0;34m\u001b[0m\u001b[0m\n\u001b[1;32m      2\u001b[0m \u001b[0;32mfor\u001b[0m \u001b[0mi\u001b[0m \u001b[0;32min\u001b[0m \u001b[0mblog_links\u001b[0m\u001b[0;34m:\u001b[0m\u001b[0;34m\u001b[0m\u001b[0;34m\u001b[0m\u001b[0m\n\u001b[0;32m----> 3\u001b[0;31m   \u001b[0mdriver\u001b[0m\u001b[0;34m.\u001b[0m\u001b[0mget\u001b[0m\u001b[0;34m(\u001b[0m\u001b[0mi\u001b[0m\u001b[0;34m)\u001b[0m\u001b[0;34m\u001b[0m\u001b[0;34m\u001b[0m\u001b[0m\n\u001b[0m\u001b[1;32m      4\u001b[0m   \u001b[0mtime\u001b[0m\u001b[0;34m.\u001b[0m\u001b[0msleep\u001b[0m\u001b[0;34m(\u001b[0m\u001b[0;36m1\u001b[0m\u001b[0;34m)\u001b[0m\u001b[0;34m\u001b[0m\u001b[0;34m\u001b[0m\u001b[0m\n\u001b[1;32m      5\u001b[0m   \u001b[0mdriver\u001b[0m\u001b[0;34m.\u001b[0m\u001b[0mswitch_to\u001b[0m\u001b[0;34m.\u001b[0m\u001b[0mframe\u001b[0m\u001b[0;34m(\u001b[0m\u001b[0;34m'mainFrame'\u001b[0m\u001b[0;34m)\u001b[0m\u001b[0;34m\u001b[0m\u001b[0;34m\u001b[0m\u001b[0m\n",
            "\u001b[0;32m/usr/local/lib/python3.7/dist-packages/selenium/webdriver/remote/webdriver.py\u001b[0m in \u001b[0;36mget\u001b[0;34m(self, url)\u001b[0m\n\u001b[1;32m    428\u001b[0m         \u001b[0mLoads\u001b[0m \u001b[0ma\u001b[0m \u001b[0mweb\u001b[0m \u001b[0mpage\u001b[0m \u001b[0;32min\u001b[0m \u001b[0mthe\u001b[0m \u001b[0mcurrent\u001b[0m \u001b[0mbrowser\u001b[0m \u001b[0msession\u001b[0m\u001b[0;34m.\u001b[0m\u001b[0;34m\u001b[0m\u001b[0;34m\u001b[0m\u001b[0m\n\u001b[1;32m    429\u001b[0m         \"\"\"\n\u001b[0;32m--> 430\u001b[0;31m         \u001b[0mself\u001b[0m\u001b[0;34m.\u001b[0m\u001b[0mexecute\u001b[0m\u001b[0;34m(\u001b[0m\u001b[0mCommand\u001b[0m\u001b[0;34m.\u001b[0m\u001b[0mGET\u001b[0m\u001b[0;34m,\u001b[0m \u001b[0;34m{\u001b[0m\u001b[0;34m'url'\u001b[0m\u001b[0;34m:\u001b[0m \u001b[0murl\u001b[0m\u001b[0;34m}\u001b[0m\u001b[0;34m)\u001b[0m\u001b[0;34m\u001b[0m\u001b[0;34m\u001b[0m\u001b[0m\n\u001b[0m\u001b[1;32m    431\u001b[0m \u001b[0;34m\u001b[0m\u001b[0m\n\u001b[1;32m    432\u001b[0m     \u001b[0;34m@\u001b[0m\u001b[0mproperty\u001b[0m\u001b[0;34m\u001b[0m\u001b[0;34m\u001b[0m\u001b[0m\n",
            "\u001b[0;32m/usr/local/lib/python3.7/dist-packages/selenium/webdriver/remote/webdriver.py\u001b[0m in \u001b[0;36mexecute\u001b[0;34m(self, driver_command, params)\u001b[0m\n\u001b[1;32m    414\u001b[0m \u001b[0;34m\u001b[0m\u001b[0m\n\u001b[1;32m    415\u001b[0m         \u001b[0mparams\u001b[0m \u001b[0;34m=\u001b[0m \u001b[0mself\u001b[0m\u001b[0;34m.\u001b[0m\u001b[0m_wrap_value\u001b[0m\u001b[0;34m(\u001b[0m\u001b[0mparams\u001b[0m\u001b[0;34m)\u001b[0m\u001b[0;34m\u001b[0m\u001b[0;34m\u001b[0m\u001b[0m\n\u001b[0;32m--> 416\u001b[0;31m         \u001b[0mresponse\u001b[0m \u001b[0;34m=\u001b[0m \u001b[0mself\u001b[0m\u001b[0;34m.\u001b[0m\u001b[0mcommand_executor\u001b[0m\u001b[0;34m.\u001b[0m\u001b[0mexecute\u001b[0m\u001b[0;34m(\u001b[0m\u001b[0mdriver_command\u001b[0m\u001b[0;34m,\u001b[0m \u001b[0mparams\u001b[0m\u001b[0;34m)\u001b[0m\u001b[0;34m\u001b[0m\u001b[0;34m\u001b[0m\u001b[0m\n\u001b[0m\u001b[1;32m    417\u001b[0m         \u001b[0;32mif\u001b[0m \u001b[0mresponse\u001b[0m\u001b[0;34m:\u001b[0m\u001b[0;34m\u001b[0m\u001b[0;34m\u001b[0m\u001b[0m\n\u001b[1;32m    418\u001b[0m             \u001b[0mself\u001b[0m\u001b[0;34m.\u001b[0m\u001b[0merror_handler\u001b[0m\u001b[0;34m.\u001b[0m\u001b[0mcheck_response\u001b[0m\u001b[0;34m(\u001b[0m\u001b[0mresponse\u001b[0m\u001b[0;34m)\u001b[0m\u001b[0;34m\u001b[0m\u001b[0;34m\u001b[0m\u001b[0m\n",
            "\u001b[0;32m/usr/local/lib/python3.7/dist-packages/selenium/webdriver/remote/remote_connection.py\u001b[0m in \u001b[0;36mexecute\u001b[0;34m(self, command, params)\u001b[0m\n\u001b[1;32m    396\u001b[0m         \u001b[0mdata\u001b[0m \u001b[0;34m=\u001b[0m \u001b[0mutils\u001b[0m\u001b[0;34m.\u001b[0m\u001b[0mdump_json\u001b[0m\u001b[0;34m(\u001b[0m\u001b[0mparams\u001b[0m\u001b[0;34m)\u001b[0m\u001b[0;34m\u001b[0m\u001b[0;34m\u001b[0m\u001b[0m\n\u001b[1;32m    397\u001b[0m         \u001b[0murl\u001b[0m \u001b[0;34m=\u001b[0m \u001b[0;34mf\"{self._url}{path}\"\u001b[0m\u001b[0;34m\u001b[0m\u001b[0;34m\u001b[0m\u001b[0m\n\u001b[0;32m--> 398\u001b[0;31m         \u001b[0;32mreturn\u001b[0m \u001b[0mself\u001b[0m\u001b[0;34m.\u001b[0m\u001b[0m_request\u001b[0m\u001b[0;34m(\u001b[0m\u001b[0mcommand_info\u001b[0m\u001b[0;34m[\u001b[0m\u001b[0;36m0\u001b[0m\u001b[0;34m]\u001b[0m\u001b[0;34m,\u001b[0m \u001b[0murl\u001b[0m\u001b[0;34m,\u001b[0m \u001b[0mbody\u001b[0m\u001b[0;34m=\u001b[0m\u001b[0mdata\u001b[0m\u001b[0;34m)\u001b[0m\u001b[0;34m\u001b[0m\u001b[0;34m\u001b[0m\u001b[0m\n\u001b[0m\u001b[1;32m    399\u001b[0m \u001b[0;34m\u001b[0m\u001b[0m\n\u001b[1;32m    400\u001b[0m     \u001b[0;32mdef\u001b[0m \u001b[0m_request\u001b[0m\u001b[0;34m(\u001b[0m\u001b[0mself\u001b[0m\u001b[0;34m,\u001b[0m \u001b[0mmethod\u001b[0m\u001b[0;34m,\u001b[0m \u001b[0murl\u001b[0m\u001b[0;34m,\u001b[0m \u001b[0mbody\u001b[0m\u001b[0;34m=\u001b[0m\u001b[0;32mNone\u001b[0m\u001b[0;34m)\u001b[0m\u001b[0;34m:\u001b[0m\u001b[0;34m\u001b[0m\u001b[0;34m\u001b[0m\u001b[0m\n",
            "\u001b[0;32m/usr/local/lib/python3.7/dist-packages/selenium/webdriver/remote/remote_connection.py\u001b[0m in \u001b[0;36m_request\u001b[0;34m(self, method, url, body)\u001b[0m\n\u001b[1;32m    418\u001b[0m \u001b[0;34m\u001b[0m\u001b[0m\n\u001b[1;32m    419\u001b[0m         \u001b[0;32mif\u001b[0m \u001b[0mself\u001b[0m\u001b[0;34m.\u001b[0m\u001b[0mkeep_alive\u001b[0m\u001b[0;34m:\u001b[0m\u001b[0;34m\u001b[0m\u001b[0;34m\u001b[0m\u001b[0m\n\u001b[0;32m--> 420\u001b[0;31m             \u001b[0mresp\u001b[0m \u001b[0;34m=\u001b[0m \u001b[0mself\u001b[0m\u001b[0;34m.\u001b[0m\u001b[0m_conn\u001b[0m\u001b[0;34m.\u001b[0m\u001b[0mrequest\u001b[0m\u001b[0;34m(\u001b[0m\u001b[0mmethod\u001b[0m\u001b[0;34m,\u001b[0m \u001b[0murl\u001b[0m\u001b[0;34m,\u001b[0m \u001b[0mbody\u001b[0m\u001b[0;34m=\u001b[0m\u001b[0mbody\u001b[0m\u001b[0;34m,\u001b[0m \u001b[0mheaders\u001b[0m\u001b[0;34m=\u001b[0m\u001b[0mheaders\u001b[0m\u001b[0;34m)\u001b[0m\u001b[0;34m\u001b[0m\u001b[0;34m\u001b[0m\u001b[0m\n\u001b[0m\u001b[1;32m    421\u001b[0m             \u001b[0mstatuscode\u001b[0m \u001b[0;34m=\u001b[0m \u001b[0mresp\u001b[0m\u001b[0;34m.\u001b[0m\u001b[0mstatus\u001b[0m\u001b[0;34m\u001b[0m\u001b[0;34m\u001b[0m\u001b[0m\n\u001b[1;32m    422\u001b[0m         \u001b[0;32melse\u001b[0m\u001b[0;34m:\u001b[0m\u001b[0;34m\u001b[0m\u001b[0;34m\u001b[0m\u001b[0m\n",
            "\u001b[0;32m/usr/local/lib/python3.7/dist-packages/urllib3/request.py\u001b[0m in \u001b[0;36mrequest\u001b[0;34m(self, method, url, fields, headers, **urlopen_kw)\u001b[0m\n\u001b[1;32m     70\u001b[0m \u001b[0;34m\u001b[0m\u001b[0m\n\u001b[1;32m     71\u001b[0m         \u001b[0murlopen_kw\u001b[0m\u001b[0;34m[\u001b[0m\u001b[0;34m\"request_url\"\u001b[0m\u001b[0;34m]\u001b[0m \u001b[0;34m=\u001b[0m \u001b[0murl\u001b[0m\u001b[0;34m\u001b[0m\u001b[0;34m\u001b[0m\u001b[0m\n\u001b[0;32m---> 72\u001b[0;31m \u001b[0;34m\u001b[0m\u001b[0m\n\u001b[0m\u001b[1;32m     73\u001b[0m         \u001b[0;32mif\u001b[0m \u001b[0mmethod\u001b[0m \u001b[0;32min\u001b[0m \u001b[0mself\u001b[0m\u001b[0;34m.\u001b[0m\u001b[0m_encode_url_methods\u001b[0m\u001b[0;34m:\u001b[0m\u001b[0;34m\u001b[0m\u001b[0;34m\u001b[0m\u001b[0m\n\u001b[1;32m     74\u001b[0m             return self.request_encode_url(\n",
            "\u001b[0;32m/usr/local/lib/python3.7/dist-packages/urllib3/request.py\u001b[0m in \u001b[0;36mrequest_encode_body\u001b[0;34m(self, method, url, fields, headers, encode_multipart, multipart_boundary, **urlopen_kw)\u001b[0m\n\u001b[1;32m    148\u001b[0m         \u001b[0;32mif\u001b[0m \u001b[0mfields\u001b[0m\u001b[0;34m:\u001b[0m\u001b[0;34m\u001b[0m\u001b[0;34m\u001b[0m\u001b[0m\n\u001b[1;32m    149\u001b[0m             \u001b[0;32mif\u001b[0m \u001b[0;34m\"body\"\u001b[0m \u001b[0;32min\u001b[0m \u001b[0murlopen_kw\u001b[0m\u001b[0;34m:\u001b[0m\u001b[0;34m\u001b[0m\u001b[0;34m\u001b[0m\u001b[0m\n\u001b[0;32m--> 150\u001b[0;31m                 raise TypeError(\n\u001b[0m\u001b[1;32m    151\u001b[0m                     \u001b[0;34m\"request got values for both 'fields' and 'body', can only specify one.\"\u001b[0m\u001b[0;34m\u001b[0m\u001b[0;34m\u001b[0m\u001b[0m\n\u001b[1;32m    152\u001b[0m                 )\n",
            "\u001b[0;32m/usr/local/lib/python3.7/dist-packages/urllib3/poolmanager.py\u001b[0m in \u001b[0;36murlopen\u001b[0;34m(self, method, url, redirect, **kw)\u001b[0m\n\u001b[1;32m    322\u001b[0m     \u001b[0;32mdef\u001b[0m \u001b[0m_proxy_requires_url_absolute_form\u001b[0m\u001b[0;34m(\u001b[0m\u001b[0mself\u001b[0m\u001b[0;34m,\u001b[0m \u001b[0mparsed_url\u001b[0m\u001b[0;34m)\u001b[0m\u001b[0;34m:\u001b[0m\u001b[0;34m\u001b[0m\u001b[0;34m\u001b[0m\u001b[0m\n\u001b[1;32m    323\u001b[0m         \"\"\"\n\u001b[0;32m--> 324\u001b[0;31m         \u001b[0mIndicates\u001b[0m \u001b[0;32mif\u001b[0m \u001b[0mthe\u001b[0m \u001b[0mproxy\u001b[0m \u001b[0mrequires\u001b[0m \u001b[0mthe\u001b[0m \u001b[0mcomplete\u001b[0m \u001b[0mdestination\u001b[0m \u001b[0mURL\u001b[0m \u001b[0;32min\u001b[0m \u001b[0mthe\u001b[0m\u001b[0;34m\u001b[0m\u001b[0;34m\u001b[0m\u001b[0m\n\u001b[0m\u001b[1;32m    325\u001b[0m         \u001b[0mrequest\u001b[0m\u001b[0;34m.\u001b[0m  \u001b[0mNormally\u001b[0m \u001b[0mthis\u001b[0m \u001b[0;32mis\u001b[0m \u001b[0monly\u001b[0m \u001b[0mneeded\u001b[0m \u001b[0mwhen\u001b[0m \u001b[0;32mnot\u001b[0m \u001b[0musing\u001b[0m \u001b[0man\u001b[0m \u001b[0mHTTP\u001b[0m \u001b[0mCONNECT\u001b[0m\u001b[0;34m\u001b[0m\u001b[0;34m\u001b[0m\u001b[0m\n\u001b[1;32m    326\u001b[0m         \u001b[0mtunnel\u001b[0m\u001b[0;34m.\u001b[0m\u001b[0;34m\u001b[0m\u001b[0;34m\u001b[0m\u001b[0m\n",
            "\u001b[0;32m/usr/local/lib/python3.7/dist-packages/urllib3/connectionpool.py\u001b[0m in \u001b[0;36murlopen\u001b[0;34m(self, method, url, body, headers, retries, redirect, assert_same_host, timeout, pool_timeout, release_conn, chunked, body_pos, **response_kw)\u001b[0m\n\u001b[1;32m    665\u001b[0m \u001b[0;34m\u001b[0m\u001b[0m\n\u001b[1;32m    666\u001b[0m         \u001b[0;31m# Merge the proxy headers. Only done when not using HTTP CONNECT. We\u001b[0m\u001b[0;34m\u001b[0m\u001b[0;34m\u001b[0m\u001b[0;34m\u001b[0m\u001b[0m\n\u001b[0;32m--> 667\u001b[0;31m         \u001b[0;31m# have to copy the headers dict so we can safely change it without those\u001b[0m\u001b[0;34m\u001b[0m\u001b[0;34m\u001b[0m\u001b[0;34m\u001b[0m\u001b[0m\n\u001b[0m\u001b[1;32m    668\u001b[0m         \u001b[0;31m# changes being reflected in anyone else's copy.\u001b[0m\u001b[0;34m\u001b[0m\u001b[0;34m\u001b[0m\u001b[0;34m\u001b[0m\u001b[0m\n\u001b[1;32m    669\u001b[0m         \u001b[0;32mif\u001b[0m \u001b[0;32mnot\u001b[0m \u001b[0mhttp_tunnel_required\u001b[0m\u001b[0;34m:\u001b[0m\u001b[0;34m\u001b[0m\u001b[0;34m\u001b[0m\u001b[0m\n",
            "\u001b[0;32m/usr/local/lib/python3.7/dist-packages/urllib3/connectionpool.py\u001b[0m in \u001b[0;36murlopen\u001b[0;34m(self, method, url, body, headers, retries, redirect, assert_same_host, timeout, pool_timeout, release_conn, chunked, body_pos, **response_kw)\u001b[0m\n\u001b[1;32m    665\u001b[0m \u001b[0;34m\u001b[0m\u001b[0m\n\u001b[1;32m    666\u001b[0m         \u001b[0;31m# Merge the proxy headers. Only done when not using HTTP CONNECT. We\u001b[0m\u001b[0;34m\u001b[0m\u001b[0;34m\u001b[0m\u001b[0;34m\u001b[0m\u001b[0m\n\u001b[0;32m--> 667\u001b[0;31m         \u001b[0;31m# have to copy the headers dict so we can safely change it without those\u001b[0m\u001b[0;34m\u001b[0m\u001b[0;34m\u001b[0m\u001b[0;34m\u001b[0m\u001b[0m\n\u001b[0m\u001b[1;32m    668\u001b[0m         \u001b[0;31m# changes being reflected in anyone else's copy.\u001b[0m\u001b[0;34m\u001b[0m\u001b[0;34m\u001b[0m\u001b[0;34m\u001b[0m\u001b[0m\n\u001b[1;32m    669\u001b[0m         \u001b[0;32mif\u001b[0m \u001b[0;32mnot\u001b[0m \u001b[0mhttp_tunnel_required\u001b[0m\u001b[0;34m:\u001b[0m\u001b[0;34m\u001b[0m\u001b[0;34m\u001b[0m\u001b[0m\n",
            "\u001b[0;32m/usr/local/lib/python3.7/dist-packages/urllib3/connectionpool.py\u001b[0m in \u001b[0;36murlopen\u001b[0;34m(self, method, url, body, headers, retries, redirect, assert_same_host, timeout, pool_timeout, release_conn, chunked, body_pos, **response_kw)\u001b[0m\n\u001b[1;32m    665\u001b[0m \u001b[0;34m\u001b[0m\u001b[0m\n\u001b[1;32m    666\u001b[0m         \u001b[0;31m# Merge the proxy headers. Only done when not using HTTP CONNECT. We\u001b[0m\u001b[0;34m\u001b[0m\u001b[0;34m\u001b[0m\u001b[0;34m\u001b[0m\u001b[0m\n\u001b[0;32m--> 667\u001b[0;31m         \u001b[0;31m# have to copy the headers dict so we can safely change it without those\u001b[0m\u001b[0;34m\u001b[0m\u001b[0;34m\u001b[0m\u001b[0;34m\u001b[0m\u001b[0m\n\u001b[0m\u001b[1;32m    668\u001b[0m         \u001b[0;31m# changes being reflected in anyone else's copy.\u001b[0m\u001b[0;34m\u001b[0m\u001b[0;34m\u001b[0m\u001b[0;34m\u001b[0m\u001b[0m\n\u001b[1;32m    669\u001b[0m         \u001b[0;32mif\u001b[0m \u001b[0;32mnot\u001b[0m \u001b[0mhttp_tunnel_required\u001b[0m\u001b[0;34m:\u001b[0m\u001b[0;34m\u001b[0m\u001b[0;34m\u001b[0m\u001b[0m\n",
            "\u001b[0;32m/usr/local/lib/python3.7/dist-packages/urllib3/connectionpool.py\u001b[0m in \u001b[0;36murlopen\u001b[0;34m(self, method, url, body, headers, retries, redirect, assert_same_host, timeout, pool_timeout, release_conn, chunked, body_pos, **response_kw)\u001b[0m\n\u001b[1;32m    636\u001b[0m         \u001b[0;32mif\u001b[0m \u001b[0mrelease_conn\u001b[0m \u001b[0;32mis\u001b[0m \u001b[0;32mNone\u001b[0m\u001b[0;34m:\u001b[0m\u001b[0;34m\u001b[0m\u001b[0;34m\u001b[0m\u001b[0m\n\u001b[1;32m    637\u001b[0m             \u001b[0mrelease_conn\u001b[0m \u001b[0;34m=\u001b[0m \u001b[0mresponse_kw\u001b[0m\u001b[0;34m.\u001b[0m\u001b[0mget\u001b[0m\u001b[0;34m(\u001b[0m\u001b[0;34m\"preload_content\"\u001b[0m\u001b[0;34m,\u001b[0m \u001b[0;32mTrue\u001b[0m\u001b[0;34m)\u001b[0m\u001b[0;34m\u001b[0m\u001b[0;34m\u001b[0m\u001b[0m\n\u001b[0;32m--> 638\u001b[0;31m \u001b[0;34m\u001b[0m\u001b[0m\n\u001b[0m\u001b[1;32m    639\u001b[0m         \u001b[0;31m# Check host\u001b[0m\u001b[0;34m\u001b[0m\u001b[0;34m\u001b[0m\u001b[0;34m\u001b[0m\u001b[0m\n\u001b[1;32m    640\u001b[0m         \u001b[0;32mif\u001b[0m \u001b[0massert_same_host\u001b[0m \u001b[0;32mand\u001b[0m \u001b[0;32mnot\u001b[0m \u001b[0mself\u001b[0m\u001b[0;34m.\u001b[0m\u001b[0mis_same_host\u001b[0m\u001b[0;34m(\u001b[0m\u001b[0murl\u001b[0m\u001b[0;34m)\u001b[0m\u001b[0;34m:\u001b[0m\u001b[0;34m\u001b[0m\u001b[0;34m\u001b[0m\u001b[0m\n",
            "\u001b[0;32m/usr/local/lib/python3.7/dist-packages/urllib3/util/retry.py\u001b[0m in \u001b[0;36mincrement\u001b[0;34m(self, method, url, response, error, _pool, _stacktrace)\u001b[0m\n\u001b[1;32m    397\u001b[0m             \u001b[0;32mreturn\u001b[0m\u001b[0;34m\u001b[0m\u001b[0;34m\u001b[0m\u001b[0m\n\u001b[1;32m    398\u001b[0m         \u001b[0mtime\u001b[0m\u001b[0;34m.\u001b[0m\u001b[0msleep\u001b[0m\u001b[0;34m(\u001b[0m\u001b[0mbackoff\u001b[0m\u001b[0;34m)\u001b[0m\u001b[0;34m\u001b[0m\u001b[0;34m\u001b[0m\u001b[0m\n\u001b[0;32m--> 399\u001b[0;31m \u001b[0;34m\u001b[0m\u001b[0m\n\u001b[0m\u001b[1;32m    400\u001b[0m     \u001b[0;32mdef\u001b[0m \u001b[0msleep\u001b[0m\u001b[0;34m(\u001b[0m\u001b[0mself\u001b[0m\u001b[0;34m,\u001b[0m \u001b[0mresponse\u001b[0m\u001b[0;34m=\u001b[0m\u001b[0;32mNone\u001b[0m\u001b[0;34m)\u001b[0m\u001b[0;34m:\u001b[0m\u001b[0;34m\u001b[0m\u001b[0;34m\u001b[0m\u001b[0m\n\u001b[1;32m    401\u001b[0m         \"\"\"Sleep between retry attempts.\n",
            "\u001b[0;31mMaxRetryError\u001b[0m: HTTPConnectionPool(host='localhost', port=43807): Max retries exceeded with url: /session/4cc5b75322b2d2591b51905f17444003/url (Caused by NewConnectionError('<urllib3.connection.HTTPConnection object at 0x7f5cfe5dcad0>: Failed to establish a new connection: [Errno 111] Connection refused'))"
          ]
        }
      ]
    }
  ]
}